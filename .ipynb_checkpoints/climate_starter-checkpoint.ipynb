{
 "cells": [
  {
   "cell_type": "code",
   "execution_count": 16,
   "metadata": {},
   "outputs": [],
   "source": [
    "%matplotlib inline\n",
    "from matplotlib import style\n",
    "style.use('fivethirtyeight')\n",
    "import matplotlib.pyplot as plt\n",
    "import numpy as np\n",
    "import pandas as pd\n",
    "import datetime as dt"
   ]
  },
  {
   "cell_type": "markdown",
   "metadata": {},
   "source": [
    "# Reflect Tables into SQLAlchemy ORM"
   ]
  },
  {
   "cell_type": "code",
   "execution_count": 17,
   "metadata": {},
   "outputs": [],
   "source": [
    "# Python SQL toolkit and Object Relational Mapper\n",
    "import sqlalchemy\n",
    "from sqlalchemy.ext.automap import automap_base\n",
    "from sqlalchemy.orm import Session\n",
    "from sqlalchemy import create_engine, func\n",
    "from sqlalchemy import inspect"
   ]
  },
  {
   "cell_type": "code",
   "execution_count": 18,
   "metadata": {},
   "outputs": [],
   "source": [
    "engine = create_engine(\"sqlite:///Resources/hawaii.sqlite\")"
   ]
  },
  {
   "cell_type": "code",
   "execution_count": 19,
   "metadata": {},
   "outputs": [],
   "source": [
    "# reflect an existing database into a new model\n",
    "Base = automap_base()\n",
    "# reflect the tables\n",
    "Base.prepare(engine, reflect=True)"
   ]
  },
  {
   "cell_type": "code",
   "execution_count": 20,
   "metadata": {},
   "outputs": [
    {
     "data": {
      "text/plain": [
       "['measurement', 'station']"
      ]
     },
     "execution_count": 20,
     "metadata": {},
     "output_type": "execute_result"
    }
   ],
   "source": [
    "# We can view all of the classes that automap found\n",
    "Base.classes.keys()"
   ]
  },
  {
   "cell_type": "code",
   "execution_count": 21,
   "metadata": {},
   "outputs": [],
   "source": [
    "# Save references to each table\n",
    "Measurement = Base.classes.measurement\n",
    "Station = Base.classes.station"
   ]
  },
  {
   "cell_type": "code",
   "execution_count": 22,
   "metadata": {},
   "outputs": [],
   "source": [
    "# Create our session (link) from Python to the DB\n",
    "session = Session(engine)"
   ]
  },
  {
   "cell_type": "markdown",
   "metadata": {},
   "source": [
    "# Exploratory Climate Analysis"
   ]
  },
  {
   "cell_type": "code",
   "execution_count": 23,
   "metadata": {},
   "outputs": [
    {
     "data": {
      "text/plain": [
       "[(1, 'USC00519397', '2010-01-01', 0.08, 65.0),\n",
       " (2, 'USC00519397', '2010-01-02', 0.0, 63.0),\n",
       " (3, 'USC00519397', '2010-01-03', 0.0, 74.0),\n",
       " (4, 'USC00519397', '2010-01-04', 0.0, 76.0),\n",
       " (5, 'USC00519397', '2010-01-06', None, 73.0),\n",
       " (6, 'USC00519397', '2010-01-07', 0.06, 70.0),\n",
       " (7, 'USC00519397', '2010-01-08', 0.0, 64.0),\n",
       " (8, 'USC00519397', '2010-01-09', 0.0, 68.0),\n",
       " (9, 'USC00519397', '2010-01-10', 0.0, 73.0),\n",
       " (10, 'USC00519397', '2010-01-11', 0.01, 64.0)]"
      ]
     },
     "execution_count": 23,
     "metadata": {},
     "output_type": "execute_result"
    }
   ],
   "source": [
    "# explore measurement table with engine.execute\n",
    "engine.execute(\"SELECT * FROM measurement LIMIT 10\").fetchall()"
   ]
  },
  {
   "cell_type": "code",
   "execution_count": 24,
   "metadata": {},
   "outputs": [
    {
     "data": {
      "text/html": [
       "<div>\n",
       "<style scoped>\n",
       "    .dataframe tbody tr th:only-of-type {\n",
       "        vertical-align: middle;\n",
       "    }\n",
       "\n",
       "    .dataframe tbody tr th {\n",
       "        vertical-align: top;\n",
       "    }\n",
       "\n",
       "    .dataframe thead th {\n",
       "        text-align: right;\n",
       "    }\n",
       "</style>\n",
       "<table border=\"1\" class=\"dataframe\">\n",
       "  <thead>\n",
       "    <tr style=\"text-align: right;\">\n",
       "      <th></th>\n",
       "      <th>id</th>\n",
       "      <th>station</th>\n",
       "      <th>date</th>\n",
       "      <th>prcp</th>\n",
       "      <th>tobs</th>\n",
       "    </tr>\n",
       "  </thead>\n",
       "  <tbody>\n",
       "    <tr>\n",
       "      <td>0</td>\n",
       "      <td>1</td>\n",
       "      <td>USC00519397</td>\n",
       "      <td>2010-01-01</td>\n",
       "      <td>0.08</td>\n",
       "      <td>65.0</td>\n",
       "    </tr>\n",
       "    <tr>\n",
       "      <td>1</td>\n",
       "      <td>2</td>\n",
       "      <td>USC00519397</td>\n",
       "      <td>2010-01-02</td>\n",
       "      <td>0.00</td>\n",
       "      <td>63.0</td>\n",
       "    </tr>\n",
       "    <tr>\n",
       "      <td>2</td>\n",
       "      <td>3</td>\n",
       "      <td>USC00519397</td>\n",
       "      <td>2010-01-03</td>\n",
       "      <td>0.00</td>\n",
       "      <td>74.0</td>\n",
       "    </tr>\n",
       "    <tr>\n",
       "      <td>3</td>\n",
       "      <td>4</td>\n",
       "      <td>USC00519397</td>\n",
       "      <td>2010-01-04</td>\n",
       "      <td>0.00</td>\n",
       "      <td>76.0</td>\n",
       "    </tr>\n",
       "    <tr>\n",
       "      <td>4</td>\n",
       "      <td>5</td>\n",
       "      <td>USC00519397</td>\n",
       "      <td>2010-01-06</td>\n",
       "      <td>NaN</td>\n",
       "      <td>73.0</td>\n",
       "    </tr>\n",
       "    <tr>\n",
       "      <td>5</td>\n",
       "      <td>6</td>\n",
       "      <td>USC00519397</td>\n",
       "      <td>2010-01-07</td>\n",
       "      <td>0.06</td>\n",
       "      <td>70.0</td>\n",
       "    </tr>\n",
       "    <tr>\n",
       "      <td>6</td>\n",
       "      <td>7</td>\n",
       "      <td>USC00519397</td>\n",
       "      <td>2010-01-08</td>\n",
       "      <td>0.00</td>\n",
       "      <td>64.0</td>\n",
       "    </tr>\n",
       "    <tr>\n",
       "      <td>7</td>\n",
       "      <td>8</td>\n",
       "      <td>USC00519397</td>\n",
       "      <td>2010-01-09</td>\n",
       "      <td>0.00</td>\n",
       "      <td>68.0</td>\n",
       "    </tr>\n",
       "    <tr>\n",
       "      <td>8</td>\n",
       "      <td>9</td>\n",
       "      <td>USC00519397</td>\n",
       "      <td>2010-01-10</td>\n",
       "      <td>0.00</td>\n",
       "      <td>73.0</td>\n",
       "    </tr>\n",
       "    <tr>\n",
       "      <td>9</td>\n",
       "      <td>10</td>\n",
       "      <td>USC00519397</td>\n",
       "      <td>2010-01-11</td>\n",
       "      <td>0.01</td>\n",
       "      <td>64.0</td>\n",
       "    </tr>\n",
       "  </tbody>\n",
       "</table>\n",
       "</div>"
      ],
      "text/plain": [
       "   id      station        date  prcp  tobs\n",
       "0   1  USC00519397  2010-01-01  0.08  65.0\n",
       "1   2  USC00519397  2010-01-02  0.00  63.0\n",
       "2   3  USC00519397  2010-01-03  0.00  74.0\n",
       "3   4  USC00519397  2010-01-04  0.00  76.0\n",
       "4   5  USC00519397  2010-01-06   NaN  73.0\n",
       "5   6  USC00519397  2010-01-07  0.06  70.0\n",
       "6   7  USC00519397  2010-01-08  0.00  64.0\n",
       "7   8  USC00519397  2010-01-09  0.00  68.0\n",
       "8   9  USC00519397  2010-01-10  0.00  73.0\n",
       "9  10  USC00519397  2010-01-11  0.01  64.0"
      ]
     },
     "execution_count": 24,
     "metadata": {},
     "output_type": "execute_result"
    }
   ],
   "source": [
    "# explore measurement table with pandas\n",
    "conn = engine.connect()\n",
    "data2 = pd.read_sql('SELECT * FROM measurement', conn)\n",
    "data2.head(10)"
   ]
  },
  {
   "cell_type": "code",
   "execution_count": 25,
   "metadata": {},
   "outputs": [
    {
     "data": {
      "text/plain": [
       "[(1, 'USC00519397', 'WAIKIKI 717.2, HI US', 21.2716, -157.8168, 3.0),\n",
       " (2, 'USC00513117', 'KANEOHE 838.1, HI US', 21.4234, -157.8015, 14.6),\n",
       " (3, 'USC00514830', 'KUALOA RANCH HEADQUARTERS 886.9, HI US', 21.5213, -157.8374, 7.0),\n",
       " (4, 'USC00517948', 'PEARL CITY, HI US', 21.3934, -157.9751, 11.9),\n",
       " (5, 'USC00518838', 'UPPER WAHIAWA 874.3, HI US', 21.4992, -158.0111, 306.6),\n",
       " (6, 'USC00519523', 'WAIMANALO EXPERIMENTAL FARM, HI US', 21.33556, -157.71139, 19.5),\n",
       " (7, 'USC00519281', 'WAIHEE 837.5, HI US', 21.45167, -157.84888999999998, 32.9),\n",
       " (8, 'USC00511918', 'HONOLULU OBSERVATORY 702.2, HI US', 21.3152, -157.9992, 0.9),\n",
       " (9, 'USC00516128', 'MANOA LYON ARBO 785.2, HI US', 21.3331, -157.8025, 152.4)]"
      ]
     },
     "execution_count": 25,
     "metadata": {},
     "output_type": "execute_result"
    }
   ],
   "source": [
    "# explore station table\n",
    "engine.execute(\"SELECT * FROM station LIMIT 10\").fetchall()"
   ]
  },
  {
   "cell_type": "code",
   "execution_count": 26,
   "metadata": {},
   "outputs": [
    {
     "data": {
      "text/html": [
       "<div>\n",
       "<style scoped>\n",
       "    .dataframe tbody tr th:only-of-type {\n",
       "        vertical-align: middle;\n",
       "    }\n",
       "\n",
       "    .dataframe tbody tr th {\n",
       "        vertical-align: top;\n",
       "    }\n",
       "\n",
       "    .dataframe thead th {\n",
       "        text-align: right;\n",
       "    }\n",
       "</style>\n",
       "<table border=\"1\" class=\"dataframe\">\n",
       "  <thead>\n",
       "    <tr style=\"text-align: right;\">\n",
       "      <th></th>\n",
       "      <th>id</th>\n",
       "      <th>station</th>\n",
       "      <th>name</th>\n",
       "      <th>latitude</th>\n",
       "      <th>longitude</th>\n",
       "      <th>elevation</th>\n",
       "    </tr>\n",
       "  </thead>\n",
       "  <tbody>\n",
       "    <tr>\n",
       "      <td>0</td>\n",
       "      <td>1</td>\n",
       "      <td>USC00519397</td>\n",
       "      <td>WAIKIKI 717.2, HI US</td>\n",
       "      <td>21.27160</td>\n",
       "      <td>-157.81680</td>\n",
       "      <td>3.0</td>\n",
       "    </tr>\n",
       "    <tr>\n",
       "      <td>1</td>\n",
       "      <td>2</td>\n",
       "      <td>USC00513117</td>\n",
       "      <td>KANEOHE 838.1, HI US</td>\n",
       "      <td>21.42340</td>\n",
       "      <td>-157.80150</td>\n",
       "      <td>14.6</td>\n",
       "    </tr>\n",
       "    <tr>\n",
       "      <td>2</td>\n",
       "      <td>3</td>\n",
       "      <td>USC00514830</td>\n",
       "      <td>KUALOA RANCH HEADQUARTERS 886.9, HI US</td>\n",
       "      <td>21.52130</td>\n",
       "      <td>-157.83740</td>\n",
       "      <td>7.0</td>\n",
       "    </tr>\n",
       "    <tr>\n",
       "      <td>3</td>\n",
       "      <td>4</td>\n",
       "      <td>USC00517948</td>\n",
       "      <td>PEARL CITY, HI US</td>\n",
       "      <td>21.39340</td>\n",
       "      <td>-157.97510</td>\n",
       "      <td>11.9</td>\n",
       "    </tr>\n",
       "    <tr>\n",
       "      <td>4</td>\n",
       "      <td>5</td>\n",
       "      <td>USC00518838</td>\n",
       "      <td>UPPER WAHIAWA 874.3, HI US</td>\n",
       "      <td>21.49920</td>\n",
       "      <td>-158.01110</td>\n",
       "      <td>306.6</td>\n",
       "    </tr>\n",
       "    <tr>\n",
       "      <td>5</td>\n",
       "      <td>6</td>\n",
       "      <td>USC00519523</td>\n",
       "      <td>WAIMANALO EXPERIMENTAL FARM, HI US</td>\n",
       "      <td>21.33556</td>\n",
       "      <td>-157.71139</td>\n",
       "      <td>19.5</td>\n",
       "    </tr>\n",
       "    <tr>\n",
       "      <td>6</td>\n",
       "      <td>7</td>\n",
       "      <td>USC00519281</td>\n",
       "      <td>WAIHEE 837.5, HI US</td>\n",
       "      <td>21.45167</td>\n",
       "      <td>-157.84889</td>\n",
       "      <td>32.9</td>\n",
       "    </tr>\n",
       "    <tr>\n",
       "      <td>7</td>\n",
       "      <td>8</td>\n",
       "      <td>USC00511918</td>\n",
       "      <td>HONOLULU OBSERVATORY 702.2, HI US</td>\n",
       "      <td>21.31520</td>\n",
       "      <td>-157.99920</td>\n",
       "      <td>0.9</td>\n",
       "    </tr>\n",
       "    <tr>\n",
       "      <td>8</td>\n",
       "      <td>9</td>\n",
       "      <td>USC00516128</td>\n",
       "      <td>MANOA LYON ARBO 785.2, HI US</td>\n",
       "      <td>21.33310</td>\n",
       "      <td>-157.80250</td>\n",
       "      <td>152.4</td>\n",
       "    </tr>\n",
       "  </tbody>\n",
       "</table>\n",
       "</div>"
      ],
      "text/plain": [
       "   id      station                                    name  latitude  \\\n",
       "0   1  USC00519397                    WAIKIKI 717.2, HI US  21.27160   \n",
       "1   2  USC00513117                    KANEOHE 838.1, HI US  21.42340   \n",
       "2   3  USC00514830  KUALOA RANCH HEADQUARTERS 886.9, HI US  21.52130   \n",
       "3   4  USC00517948                       PEARL CITY, HI US  21.39340   \n",
       "4   5  USC00518838              UPPER WAHIAWA 874.3, HI US  21.49920   \n",
       "5   6  USC00519523      WAIMANALO EXPERIMENTAL FARM, HI US  21.33556   \n",
       "6   7  USC00519281                     WAIHEE 837.5, HI US  21.45167   \n",
       "7   8  USC00511918       HONOLULU OBSERVATORY 702.2, HI US  21.31520   \n",
       "8   9  USC00516128            MANOA LYON ARBO 785.2, HI US  21.33310   \n",
       "\n",
       "   longitude  elevation  \n",
       "0 -157.81680        3.0  \n",
       "1 -157.80150       14.6  \n",
       "2 -157.83740        7.0  \n",
       "3 -157.97510       11.9  \n",
       "4 -158.01110      306.6  \n",
       "5 -157.71139       19.5  \n",
       "6 -157.84889       32.9  \n",
       "7 -157.99920        0.9  \n",
       "8 -157.80250      152.4  "
      ]
     },
     "execution_count": 26,
     "metadata": {},
     "output_type": "execute_result"
    }
   ],
   "source": [
    "# explore station data with pandas\n",
    "data4 = pd.read_sql('SELECT * FROM station', conn)\n",
    "data4.head(10)"
   ]
  },
  {
   "cell_type": "code",
   "execution_count": 27,
   "metadata": {},
   "outputs": [
    {
     "data": {
      "text/plain": [
       "immutabledict({'measurement': Table('measurement', MetaData(bind=None), Column('id', INTEGER(), table=<measurement>, primary_key=True, nullable=False), Column('station', TEXT(), table=<measurement>), Column('date', TEXT(), table=<measurement>), Column('prcp', FLOAT(), table=<measurement>), Column('tobs', FLOAT(), table=<measurement>), schema=None), 'station': Table('station', MetaData(bind=None), Column('id', INTEGER(), table=<station>, primary_key=True, nullable=False), Column('station', TEXT(), table=<station>), Column('name', TEXT(), table=<station>), Column('latitude', FLOAT(), table=<station>), Column('longitude', FLOAT(), table=<station>), Column('elevation', FLOAT(), table=<station>), schema=None)})"
      ]
     },
     "execution_count": 27,
     "metadata": {},
     "output_type": "execute_result"
    }
   ],
   "source": [
    "#double check class created.  Returns dictionary of schema\n",
    "Base.metadata.tables"
   ]
  },
  {
   "cell_type": "code",
   "execution_count": 28,
   "metadata": {},
   "outputs": [
    {
     "name": "stdout",
     "output_type": "stream",
     "text": [
      "Columns for measurement table\n",
      "id INTEGER\n",
      "station TEXT\n",
      "date TEXT\n",
      "prcp FLOAT\n",
      "tobs FLOAT\n",
      " \n",
      "Columns for station table\n",
      "id INTEGER\n",
      "station TEXT\n",
      "name TEXT\n",
      "latitude FLOAT\n",
      "longitude FLOAT\n",
      "elevation FLOAT\n"
     ]
    }
   ],
   "source": [
    "# use inspector to get columns for measurement and station table.\n",
    "# inspector works with the sqlite tables (measurement, station) instead of the base class that reflects the tables (Measurement, Station)\n",
    "\n",
    "from sqlalchemy import inspect\n",
    "inspector  = inspect(engine)\n",
    "inspector.get_table_names()\n",
    "\n",
    "print('Columns for measurement table')\n",
    "columns = inspector.get_columns('measurement')\n",
    "for column in columns:\n",
    "    print(column['name'], column['type'])\n",
    "    \n",
    "    \n",
    "print(' ')\n",
    "print('Columns for station table')\n",
    "columns = inspector.get_columns('station')\n",
    "for column in columns:\n",
    "    print(column['name'], column['type'])"
   ]
  },
  {
   "cell_type": "markdown",
   "metadata": {},
   "source": [
    "## Precipitation Analysis"
   ]
  },
  {
   "cell_type": "code",
   "execution_count": 29,
   "metadata": {},
   "outputs": [
    {
     "name": "stdout",
     "output_type": "stream",
     "text": [
      "max date is 2017-08-23\n",
      "<class 'datetime.date'>\n"
     ]
    },
    {
     "data": {
      "text/plain": [
       "<Figure size 432x288 with 0 Axes>"
      ]
     },
     "metadata": {},
     "output_type": "display_data"
    },
    {
     "data": {
      "image/png": "[encoded data removed]",
      "text/plain": [
       "<Figure size 432x288 with 1 Axes>"
      ]
     },
     "metadata": {},
     "output_type": "display_data"
    }
   ],
   "source": [
    "# Design a query to retrieve the last 12 months of precipitation data and plot the results\n",
    "# Querying the Base tables returns results in a list\n",
    "# Calculate the date 1 year ago from the last data point in the database\n",
    "\n",
    "max_date = session.query(func.max(Measurement.date)).all()\n",
    "#max_date is returned as a tuple in a list.  Get the first position of the list and and first position of the tuple\n",
    "max_date = max_date[0][0]       #type is string\n",
    "print(f'max date is {max_date}')   #2017-08-23\n",
    "\n",
    "#get 1 year ago date.  Got code with Shazee's help\n",
    "#https://github.com/PragatisGitHub/Hawaii-Climate-Analysis-using-SQLALCHEMY/blob/master/Hawaii%20Climate%20Analysis.ipynb\n",
    "today = dt.date.today()\n",
    "max_temp = today.replace(year=int(max_date[:4]),month=int(max_date[5:7]),day=int(max_date[8:]))\n",
    "min_date = max_temp - dt.timedelta(days=365)\n",
    "\n",
    "print(type(min_date))\n",
    "# Perform a query to retrieve the date and precipitation scores\n",
    "prcp = session.query(Measurement.date, Measurement.prcp).filter(Measurement.date > min_date).\\\n",
    "                                              filter(Measurement.date < max_date).all() \n",
    "# for i in prcp:\n",
    "#     print(i.date, i.prcp)\n",
    "\n",
    "# Save the query results as a Pandas DataFrame\n",
    "prcp_df = pd.DataFrame(prcp)\n",
    "prcp_df.head()\n",
    "prcp_df.shape\n",
    "\n",
    "#add column header to dataframe\n",
    "prcp_df.columns = ['date', 'prcp']\n",
    "\n",
    "#reset index to date column\n",
    "prcp_df = prcp_df.set_index('date')\n",
    "\n",
    "#drop nans\n",
    "prcp_df = prcp_df.dropna(how = 'any')\n",
    "\n",
    "# Sort the dataframe by date\n",
    "prcp_df = prcp_df.sort_index(ascending = True)\n",
    "prcp_df.head()\n",
    "\n",
    "# Use Pandas Plotting with Matplotlib to plot the data\n",
    "plt.figure()\n",
    "prcp_df.plot(title = f'Precipitation {min_date} to {max_date}', rot = 90)\n",
    "plt.savefig('Output/prcp_plot.png')\n",
    "plt.show()"
   ]
  },
  {
   "cell_type": "code",
   "execution_count": 30,
   "metadata": {},
   "outputs": [
    {
     "name": "stdout",
     "output_type": "stream",
     "text": [
      "[{'date': '2016-08-24', 'prcp': 0.08}, {'date': '2016-08-25', 'prcp': 0.08}, {'date': '2016-08-26', 'prcp': 0.0}, {'date': '2016-08-27', 'prcp': 0.0}, {'date': '2016-08-28', 'prcp': 0.01}, {'date': '2016-08-29', 'prcp': 0.0}, {'date': '2016-08-30', 'prcp': 0.0}, {'date': '2016-08-31', 'prcp': 0.13}, {'date': '2016-09-01', 'prcp': 0.0}, {'date': '2016-09-02', 'prcp': 0.0}, {'date': '2016-09-03', 'prcp': 0.0}, {'date': '2016-09-04', 'prcp': 0.03}, {'date': '2016-09-05', 'prcp': None}, {'date': '2016-09-06', 'prcp': None}, {'date': '2016-09-07', 'prcp': 0.05}, {'date': '2016-09-08', 'prcp': 0.0}, {'date': '2016-09-09', 'prcp': 0.03}, {'date': '2016-09-10', 'prcp': 0.0}, {'date': '2016-09-11', 'prcp': 0.05}, {'date': '2016-09-12', 'prcp': 0.0}, {'date': '2016-09-13', 'prcp': 0.02}, {'date': '2016-09-14', 'prcp': 1.32}, {'date': '2016-09-15', 'prcp': 0.42}, {'date': '2016-09-16', 'prcp': 0.06}, {'date': '2016-09-17', 'prcp': 0.05}, {'date': '2016-09-18', 'prcp': 0.0}, {'date': '2016-09-19', 'prcp': 0.0}, {'date': '2016-09-20', 'prcp': 0.0}, {'date': '2016-09-21', 'prcp': 0.0}, {'date': '2016-09-22', 'prcp': 0.02}, {'date': '2016-09-23', 'prcp': 0.0}, {'date': '2016-09-24', 'prcp': 0.0}, {'date': '2016-09-25', 'prcp': 0.0}, {'date': '2016-09-26', 'prcp': 0.06}, {'date': '2016-09-27', 'prcp': 0.02}, {'date': '2016-09-28', 'prcp': 0.0}, {'date': '2016-09-29', 'prcp': 0.0}, {'date': '2016-09-30', 'prcp': 0.0}, {'date': '2016-10-01', 'prcp': 0.0}, {'date': '2016-10-02', 'prcp': 0.0}, {'date': '2016-10-03', 'prcp': 0.0}, {'date': '2016-10-04', 'prcp': 0.0}, {'date': '2016-10-05', 'prcp': 0.0}, {'date': '2016-10-06', 'prcp': 0.0}, {'date': '2016-10-07', 'prcp': 0.0}, {'date': '2016-10-08', 'prcp': 0.0}, {'date': '2016-10-09', 'prcp': 0.0}, {'date': '2016-10-10', 'prcp': 0.0}, {'date': '2016-10-11', 'prcp': 0.0}, {'date': '2016-10-12', 'prcp': 0.0}, {'date': '2016-10-13', 'prcp': 0.0}, {'date': '2016-10-14', 'prcp': 0.0}, {'date': '2016-10-15', 'prcp': 0.0}, {'date': '2016-10-16', 'prcp': 0.0}, {'date': '2016-10-17', 'prcp': 0.01}, {'date': '2016-10-18', 'prcp': 0.0}, {'date': '2016-10-19', 'prcp': 0.0}, {'date': '2016-10-20', 'prcp': 0.0}, {'date': '2016-10-21', 'prcp': 0.05}, {'date': '2016-10-22', 'prcp': 0.15}, {'date': '2016-10-23', 'prcp': 0.01}, {'date': '2016-10-24', 'prcp': 0.0}, {'date': '2016-10-25', 'prcp': 0.03}, {'date': '2016-10-26', 'prcp': 0.0}, {'date': '2016-10-27', 'prcp': 0.0}, {'date': '2016-10-28', 'prcp': 0.0}, {'date': '2016-10-29', 'prcp': 0.0}, {'date': '2016-10-30', 'prcp': 0.24}, {'date': '2016-10-31', 'prcp': 0.03}, {'date': '2016-11-01', 'prcp': 0.0}, {'date': '2016-11-02', 'prcp': 0.0}, {'date': '2016-11-03', 'prcp': 0.0}, {'date': '2016-11-04', 'prcp': 0.0}, {'date': '2016-11-05', 'prcp': 0.0}, {'date': '2016-11-06', 'prcp': 0.0}, {'date': '2016-11-07', 'prcp': 0.0}, {'date': '2016-11-08', 'prcp': 0.07}, {'date': '2016-11-09', 'prcp': 0.0}, {'date': '2016-11-10', 'prcp': 0.0}, {'date': '2016-11-11', 'prcp': 0.0}, {'date': '2016-11-12', 'prcp': 0.0}, {'date': '2016-11-13', 'prcp': 0.0}, {'date': '2016-11-14', 'prcp': 0.0}, {'date': '2016-11-15', 'prcp': 0.0}, {'date': '2016-11-16', 'prcp': 0.0}, {'date': '2016-11-17', 'prcp': 0.0}, {'date': '2016-11-18', 'prcp': 0.0}, {'date': '2016-11-19', 'prcp': 0.03}, {'date': '2016-11-20', 'prcp': 0.05}, {'date': '2016-11-21', 'prcp': 0.01}, {'date': '2016-11-22', 'prcp': 0.13}, {'date': '2016-11-23', 'prcp': 0.14}, {'date': '2016-11-24', 'prcp': 0.05}, {'date': '2016-11-25', 'prcp': 0.05}, {'date': '2016-11-26', 'prcp': 0.05}, {'date': '2016-11-27', 'prcp': 0.0}, {'date': '2016-11-28', 'prcp': 0.01}, {'date': '2016-11-29', 'prcp': 0.0}, {'date': '2016-11-30', 'prcp': 0.14}, {'date': '2016-12-01', 'prcp': 0.12}, {'date': '2016-12-02', 'prcp': 0.03}, {'date': '2016-12-03', 'prcp': 0.0}, {'date': '2016-12-04', 'prcp': 0.03}, {'date': '2016-12-05', 'prcp': 0.43}, {'date': '2016-12-06', 'prcp': 0.02}, {'date': '2016-12-07', 'prcp': 0.0}, {'date': '2016-12-08', 'prcp': 0.03}, {'date': '2016-12-09', 'prcp': 0.52}, {'date': '2016-12-10', 'prcp': 0.05}, {'date': '2016-12-11', 'prcp': 0.04}, {'date': '2016-12-12', 'prcp': 0.01}, {'date': '2016-12-13', 'prcp': 0.05}, {'date': '2016-12-14', 'prcp': 0.03}, {'date': '2016-12-15', 'prcp': 0.0}, {'date': '2016-12-16', 'prcp': 0.0}, {'date': '2016-12-17', 'prcp': 0.01}, {'date': '2016-12-18', 'prcp': 0.13}, {'date': '2016-12-19', 'prcp': 0.01}, {'date': '2016-12-20', 'prcp': 0.0}, {'date': '2016-12-21', 'prcp': 0.0}, {'date': '2016-12-22', 'prcp': 0.01}, {'date': '2016-12-23', 'prcp': 0.01}, {'date': '2016-12-24', 'prcp': 0.01}, {'date': '2016-12-25', 'prcp': 0.0}, {'date': '2016-12-26', 'prcp': 0.02}, {'date': '2016-12-27', 'prcp': 0.0}, {'date': '2016-12-28', 'prcp': 0.02}, {'date': '2016-12-29', 'prcp': 0.04}, {'date': '2016-12-30', 'prcp': 0.12}, {'date': '2016-12-31', 'prcp': 0.01}, {'date': '2017-01-01', 'prcp': 0.0}, {'date': '2017-01-02', 'prcp': 0.0}, {'date': '2017-01-03', 'prcp': 0.0}, {'date': '2017-01-04', 'prcp': 0.0}, {'date': '2017-01-05', 'prcp': 0.0}, {'date': '2017-01-06', 'prcp': 0.0}, {'date': '2017-01-07', 'prcp': 0.0}, {'date': '2017-01-08', 'prcp': 0.0}, {'date': '2017-01-09', 'prcp': 0.0}, {'date': '2017-01-10', 'prcp': 0.0}, {'date': '2017-01-11', 'prcp': 0.0}, {'date': '2017-01-12', 'prcp': 0.0}, {'date': '2017-01-13', 'prcp': 0.0}, {'date': '2017-01-14', 'prcp': 0.0}, {'date': '2017-01-15', 'prcp': 0.0}, {'date': '2017-01-16', 'prcp': 0.0}, {'date': '2017-01-17', 'prcp': 0.0}, {'date': '2017-01-18', 'prcp': 0.0}, {'date': '2017-01-19', 'prcp': 0.0}, {'date': '2017-01-20', 'prcp': 0.0}, {'date': '2017-01-21', 'prcp': 0.0}, {'date': '2017-01-22', 'prcp': 0.16}, {'date': '2017-01-23', 'prcp': 0.0}, {'date': '2017-01-24', 'prcp': 0.04}, {'date': '2017-01-25', 'prcp': 0.03}, {'date': '2017-01-26', 'prcp': 0.0}, {'date': '2017-01-27', 'prcp': 0.0}, {'date': '2017-01-28', 'prcp': 0.0}, {'date': '2017-01-29', 'prcp': 0.18}, {'date': '2017-01-30', 'prcp': 0.0}, {'date': '2017-01-31', 'prcp': 0.0}, {'date': '2017-02-01', 'prcp': 0.0}, {'date': '2017-02-02', 'prcp': 0.0}, {'date': '2017-02-03', 'prcp': 0.0}, {'date': '2017-02-04', 'prcp': 0.0}, {'date': '2017-02-05', 'prcp': 0.0}, {'date': '2017-02-06', 'prcp': 0.0}, {'date': '2017-02-07', 'prcp': 0.51}, {'date': '2017-02-08', 'prcp': 0.0}, {'date': '2017-02-09', 'prcp': 0.0}, {'date': '2017-02-10', 'prcp': 0.0}, {'date': '2017-02-11', 'prcp': 0.31}, {'date': '2017-02-12', 'prcp': 2.62}, {'date': '2017-02-13', 'prcp': 0.01}, {'date': '2017-02-14', 'prcp': 0.0}, {'date': '2017-02-15', 'prcp': 0.0}, {'date': '2017-02-16', 'prcp': 0.07}, {'date': '2017-02-17', 'prcp': 0.0}, {'date': '2017-02-18', 'prcp': 0.0}, {'date': '2017-02-19', 'prcp': 0.0}, {'date': '2017-02-20', 'prcp': 0.0}, {'date': '2017-02-21', 'prcp': 0.06}, {'date': '2017-02-22', 'prcp': 0.06}, {'date': '2017-02-23', 'prcp': 0.01}, {'date': '2017-02-24', 'prcp': 0.0}, {'date': '2017-02-25', 'prcp': 0.03}, {'date': '2017-02-26', 'prcp': 0.0}, {'date': '2017-02-27', 'prcp': 0.0}, {'date': '2017-02-28', 'prcp': 0.0}, {'date': '2017-03-01', 'prcp': 1.19}, {'date': '2017-03-02', 'prcp': 0.73}, {'date': '2017-03-03', 'prcp': 0.47}, {'date': '2017-03-04', 'prcp': 0.0}, {'date': '2017-03-05', 'prcp': 0.35}, {'date': '2017-03-06', 'prcp': 0.0}, {'date': '2017-03-07', 'prcp': 0.0}, {'date': '2017-03-08', 'prcp': 0.0}, {'date': '2017-03-09', 'prcp': 0.0}, {'date': '2017-03-10', 'prcp': 0.0}, {'date': '2017-03-11', 'prcp': 0.0}, {'date': '2017-03-12', 'prcp': 0.0}, {'date': '2017-03-13', 'prcp': 0.0}, {'date': '2017-03-14', 'prcp': 0.0}, {'date': '2017-03-15', 'prcp': 0.0}, {'date': '2017-03-16', 'prcp': 0.0}, {'date': '2017-03-17', 'prcp': 0.0}, {'date': '2017-03-18', 'prcp': 0.0}, {'date': '2017-03-19', 'prcp': 0.0}, {'date': '2017-03-20', 'prcp': 0.0}, {'date': '2017-03-21', 'prcp': 0.0}, {'date': '2017-03-22', 'prcp': 0.0}, {'date': '2017-03-23', 'prcp': 0.0}, {'date': '2017-03-24', 'prcp': 0.02}, {'date': '2017-03-25', 'prcp': 0.0}, {'date': '2017-03-26', 'prcp': 0.0}, {'date': '2017-03-27', 'prcp': 0.0}, {'date': '2017-03-28', 'prcp': 0.0}, {'date': '2017-03-29', 'prcp': 0.0}, {'date': '2017-03-30', 'prcp': 0.0}, {'date': '2017-03-31', 'prcp': 0.0}, {'date': '2017-04-01', 'prcp': 0.0}, {'date': '2017-04-02', 'prcp': 0.0}, {'date': '2017-04-03', 'prcp': 0.0}, {'date': '2017-04-04', 'prcp': 0.0}, {'date': '2017-04-05', 'prcp': 0.0}, {'date': '2017-04-06', 'prcp': 0.0}, {'date': '2017-04-07', 'prcp': 0.0}, {'date': '2017-04-08', 'prcp': 0.0}, {'date': '2017-04-09', 'prcp': 0.0}, {'date': '2017-04-10', 'prcp': 0.0}, {'date': '2017-04-11', 'prcp': 0.0}, {'date': '2017-04-12', 'prcp': 0.0}, {'date': '2017-04-13', 'prcp': 0.0}, {'date': '2017-04-14', 'prcp': 0.26}, {'date': '2017-04-15', 'prcp': 0.01}, {'date': '2017-04-16', 'prcp': 0.0}, {'date': '2017-04-17', 'prcp': 0.02}, {'date': '2017-04-18', 'prcp': 0.0}, {'date': '2017-04-19', 'prcp': 0.02}, {'date': '2017-04-20', 'prcp': 0.05}, {'date': '2017-04-21', 'prcp': 0.23}, {'date': '2017-04-22', 'prcp': 0.32}, {'date': '2017-04-23', 'prcp': 0.03}, {'date': '2017-04-24', 'prcp': 0.0}, {'date': '2017-04-25', 'prcp': 0.0}, {'date': '2017-04-26', 'prcp': 0.0}, {'date': '2017-04-27', 'prcp': 0.0}, {'date': '2017-04-28', 'prcp': 0.0}, {'date': '2017-04-29', 'prcp': 0.12}, {'date': '2017-04-30', 'prcp': 0.89}, {'date': '2017-05-01', 'prcp': 0.26}, {'date': '2017-05-02', 'prcp': 0.0}, {'date': '2017-05-03', 'prcp': 0.0}, {'date': '2017-05-04', 'prcp': 0.0}, {'date': '2017-05-05', 'prcp': 0.0}, {'date': '2017-05-06', 'prcp': 0.0}, {'date': '2017-05-07', 'prcp': 0.0}, {'date': '2017-05-08', 'prcp': 0.0}, {'date': '2017-05-10', 'prcp': 0.0}, {'date': '2017-05-11', 'prcp': 0.01}, {'date': '2017-05-12', 'prcp': 0.0}, {'date': '2017-05-13', 'prcp': 0.0}, {'date': '2017-05-14', 'prcp': 0.0}, {'date': '2017-05-15', 'prcp': 0.05}, {'date': '2017-05-16', 'prcp': 0.01}, {'date': '2017-05-17', 'prcp': 0.0}, {'date': '2017-05-18', 'prcp': 0.01}, {'date': '2017-05-19', 'prcp': 0.0}, {'date': '2017-05-20', 'prcp': 0.0}, {'date': '2017-05-21', 'prcp': 0.0}, {'date': '2017-05-22', 'prcp': 0.0}, {'date': '2017-05-23', 'prcp': 0.08}, {'date': '2017-05-24', 'prcp': 0.13}, {'date': '2017-05-25', 'prcp': 0.15}, {'date': '2017-05-27', 'prcp': 0.01}, {'date': '2017-05-28', 'prcp': 0.02}, {'date': '2017-05-29', 'prcp': 0.0}, {'date': '2017-05-30', 'prcp': 0.26}, {'date': '2017-05-31', 'prcp': 0.02}, {'date': '2017-06-01', 'prcp': 0.0}, {'date': '2017-06-02', 'prcp': 0.0}, {'date': '2017-06-03', 'prcp': 0.02}, {'date': '2017-06-04', 'prcp': 0.0}, {'date': '2017-06-05', 'prcp': 0.0}, {'date': '2017-06-06', 'prcp': 0.0}, {'date': '2017-06-07', 'prcp': 0.0}, {'date': '2017-06-08', 'prcp': 0.0}, {'date': '2017-06-09', 'prcp': 0.0}, {'date': '2017-06-10', 'prcp': 0.04}, {'date': '2017-06-11', 'prcp': 0.08}, {'date': '2017-06-12', 'prcp': 0.02}, {'date': '2017-06-13', 'prcp': 0.0}, {'date': '2017-06-14', 'prcp': 0.0}, {'date': '2017-06-15', 'prcp': 0.0}, {'date': '2017-06-16', 'prcp': 0.0}, {'date': '2017-06-17', 'prcp': 0.0}, {'date': '2017-06-18', 'prcp': 0.05}, {'date': '2017-06-19', 'prcp': 0.0}, {'date': '2017-06-20', 'prcp': 0.02}, {'date': '2017-06-21', 'prcp': 0.0}, {'date': '2017-06-22', 'prcp': 0.0}, {'date': '2017-06-23', 'prcp': 0.0}, {'date': '2017-06-24', 'prcp': 0.06}, {'date': '2017-06-25', 'prcp': 0.0}, {'date': '2017-06-26', 'prcp': 0.0}, {'date': '2017-06-27', 'prcp': 0.0}, {'date': '2017-06-28', 'prcp': 0.0}, {'date': '2017-06-29', 'prcp': 0.0}, {'date': '2017-06-30', 'prcp': 0.08}, {'date': '2017-07-01', 'prcp': 0.02}, {'date': '2017-07-02', 'prcp': 0.02}, {'date': '2017-07-03', 'prcp': 0.04}, {'date': '2017-07-04', 'prcp': 0.04}, {'date': '2017-07-05', 'prcp': 0.0}, {'date': '2017-07-06', 'prcp': 0.0}, {'date': '2017-07-07', 'prcp': 0.0}, {'date': '2017-07-08', 'prcp': 0.0}, {'date': '2017-07-09', 'prcp': 0.0}, {'date': '2017-07-10', 'prcp': 0.0}, {'date': '2017-07-11', 'prcp': 0.0}, {'date': '2017-07-12', 'prcp': 0.0}, {'date': '2017-07-13', 'prcp': 0.07}, {'date': '2017-07-14', 'prcp': 0.02}, {'date': '2017-07-15', 'prcp': 0.0}, {'date': '2017-07-16', 'prcp': 0.02}, {'date': '2017-07-17', 'prcp': 0.03}, {'date': '2017-07-18', 'prcp': 0.05}, {'date': '2017-07-20', 'prcp': 0.03}, {'date': '2017-07-21', 'prcp': 0.0}, {'date': '2017-07-22', 'prcp': 0.03}, {'date': '2017-07-23', 'prcp': 0.0}, {'date': '2017-07-24', 'prcp': 0.05}, {'date': '2017-07-25', 'prcp': 0.0}, {'date': '2017-07-26', 'prcp': 0.0}, {'date': '2017-07-27', 'prcp': 0.0}, {'date': '2017-07-28', 'prcp': 0.0}, {'date': '2017-07-29', 'prcp': 0.0}, {'date': '2017-07-30', 'prcp': 0.0}, {'date': '2017-07-31', 'prcp': 0.0}, {'date': '2017-08-01', 'prcp': 0.02}, {'date': '2017-08-02', 'prcp': 0.0}, {'date': '2017-08-03', 'prcp': 0.0}, {'date': '2017-08-04', 'prcp': 0.02}, {'date': '2017-08-05', 'prcp': 0.0}, {'date': '2017-08-06', 'prcp': 0.0}, {'date': '2017-08-07', 'prcp': 0.0}, {'date': '2017-08-08', 'prcp': 0.0}, {'date': '2017-08-09', 'prcp': 0.0}, {'date': '2017-08-10', 'prcp': 0.0}, {'date': '2017-08-11', 'prcp': 0.0}, {'date': '2017-08-12', 'prcp': 0.0}, {'date': '2017-08-13', 'prcp': 0.0}, {'date': '2017-08-14', 'prcp': 0.0}, {'date': '2017-08-15', 'prcp': 0.02}, {'date': '2017-08-18', 'prcp': 0.0}, {'date': '2017-08-19', 'prcp': 0.0}, {'date': '2017-08-20', 'prcp': 0.0}, {'date': '2017-08-21', 'prcp': 0.0}, {'date': '2017-08-22', 'prcp': 0.0}, {'date': '2016-08-24', 'prcp': 2.15}, {'date': '2016-08-25', 'prcp': 0.08}, {'date': '2016-08-26', 'prcp': 0.03}, {'date': '2016-08-27', 'prcp': 0.18}, {'date': '2016-08-28', 'prcp': 0.14}, {'date': '2016-08-29', 'prcp': 0.17}, {'date': '2016-08-30', 'prcp': 0.0}, {'date': '2016-08-31', 'prcp': 0.1}, {'date': '2016-09-01', 'prcp': 0.0}, {'date': '2016-09-02', 'prcp': 0.02}, {'date': '2016-09-03', 'prcp': 0.07}, {'date': '2016-09-04', 'prcp': 0.03}, {'date': '2016-09-05', 'prcp': 0.11}, {'date': '2016-09-06', 'prcp': 0.05}, {'date': '2016-09-07', 'prcp': 0.1}, {'date': '2016-09-08', 'prcp': 0.22}, {'date': '2016-09-09', 'prcp': 0.01}, {'date': '2016-09-10', 'prcp': 0.01}, {'date': '2016-09-11', 'prcp': 0.18}, {'date': '2016-09-12', 'prcp': 0.04}, {'date': '2016-09-13', 'prcp': 0.37}, {'date': '2016-09-14', 'prcp': 0.9}, {'date': '2016-09-15', 'prcp': 0.12}, {'date': '2016-09-16', 'prcp': 0.01}, {'date': '2016-09-17', 'prcp': 0.04}, {'date': '2016-09-18', 'prcp': 0.0}, {'date': '2016-09-19', 'prcp': 0.01}, {'date': '2016-09-20', 'prcp': 0.09}, {'date': '2016-09-21', 'prcp': 0.06}, {'date': '2016-09-22', 'prcp': 0.09}, {'date': '2016-09-23', 'prcp': 0.15}, {'date': '2016-09-24', 'prcp': 0.0}, {'date': '2016-09-25', 'prcp': 0.02}, {'date': '2016-09-26', 'prcp': 0.06}, {'date': '2016-09-27', 'prcp': 0.12}, {'date': '2016-09-28', 'prcp': 0.08}, {'date': '2016-09-29', 'prcp': 0.49}, {'date': '2016-09-30', 'prcp': 0.31}, {'date': '2016-10-01', 'prcp': 0.14}, {'date': '2016-10-02', 'prcp': 0.02}, {'date': '2016-10-03', 'prcp': 0.04}, {'date': '2016-10-04', 'prcp': 0.0}, {'date': '2016-10-05', 'prcp': 0.0}, {'date': '2016-10-06', 'prcp': 0.05}, {'date': '2016-10-07', 'prcp': 0.0}, {'date': '2016-10-08', 'prcp': 0.0}, {'date': '2016-10-09', 'prcp': 0.0}, {'date': '2016-10-10', 'prcp': 0.0}, {'date': '2016-10-11', 'prcp': 0.02}, {'date': '2016-10-12', 'prcp': 0.03}, {'date': '2016-10-13', 'prcp': 0.0}, {'date': '2016-10-14', 'prcp': 0.0}, {'date': '2016-10-15', 'prcp': 0.0}, {'date': '2016-10-16', 'prcp': 0.0}, {'date': '2016-10-17', 'prcp': 0.03}, {'date': '2016-10-18', 'prcp': 0.05}, {'date': '2016-10-19', 'prcp': 0.06}, {'date': '2016-10-20', 'prcp': 0.0}, {'date': '2016-10-21', 'prcp': 0.15}, {'date': '2016-10-22', 'prcp': 0.1}, {'date': '2016-10-23', 'prcp': 0.01}, {'date': '2016-10-24', 'prcp': 0.0}, {'date': '2016-10-25', 'prcp': 0.04}, {'date': '2016-10-26', 'prcp': 0.06}, {'date': '2016-10-27', 'prcp': 0.11}, {'date': '2016-10-28', 'prcp': 0.02}, {'date': '2016-10-29', 'prcp': 0.02}, {'date': '2016-10-30', 'prcp': 0.1}, {'date': '2016-10-31', 'prcp': 0.03}, {'date': '2016-11-01', 'prcp': 0.01}, {'date': '2016-11-02', 'prcp': 0.0}, {'date': '2016-11-03', 'prcp': 0.0}, {'date': '2016-11-04', 'prcp': 0.0}, {'date': '2016-11-05', 'prcp': 0.02}, {'date': '2016-11-06', 'prcp': 0.02}, {'date': '2016-11-07', 'prcp': 0.0}, {'date': '2016-11-08', 'prcp': 0.14}, {'date': '2016-11-09', 'prcp': 0.08}, {'date': '2016-11-10', 'prcp': 0.0}, {'date': '2016-11-11', 'prcp': 0.0}, {'date': '2016-11-12', 'prcp': 0.0}, {'date': '2016-11-13', 'prcp': 0.0}, {'date': '2016-11-14', 'prcp': 0.06}, {'date': '2016-11-15', 'prcp': 0.0}, {'date': '2016-11-16', 'prcp': 0.14}, {'date': '2016-11-17', 'prcp': 0.03}, {'date': '2016-11-18', 'prcp': 0.01}, {'date': '2016-11-19', 'prcp': 0.11}, {'date': '2016-11-20', 'prcp': 0.11}, {'date': '2016-11-21', 'prcp': 0.02}, {'date': '2016-11-22', 'prcp': 0.41}, {'date': '2016-11-23', 'prcp': 0.03}, {'date': '2016-11-24', 'prcp': 0.2}, {'date': '2016-11-25', 'prcp': 0.05}, {'date': '2016-11-26', 'prcp': 0.05}, {'date': '2016-11-27', 'prcp': 0.06}, {'date': '2016-11-28', 'prcp': 0.02}, {'date': '2016-11-29', 'prcp': 0.04}, {'date': '2016-11-30', 'prcp': 0.05}, {'date': '2016-12-01', 'prcp': 0.33}, {'date': '2016-12-02', 'prcp': 0.3}, {'date': '2016-12-03', 'prcp': 0.04}, {'date': '2016-12-04', 'prcp': 0.1}, {'date': '2016-12-05', 'prcp': 0.34}, {'date': '2016-12-06', 'prcp': 0.02}, {'date': '2016-12-07', 'prcp': 0.17}, {'date': '2016-12-08', 'prcp': 0.03}, {'date': '2016-12-09', 'prcp': 0.34}, {'date': '2016-12-10', 'prcp': 0.02}, {'date': '2016-12-11', 'prcp': 0.02}, {'date': '2016-12-12', 'prcp': 0.01}, {'date': '2016-12-13', 'prcp': 0.1}, {'date': '2016-12-14', 'prcp': 0.05}, {'date': '2016-12-15', 'prcp': 0.02}, {'date': '2016-12-16', 'prcp': 0.01}, {'date': '2016-12-17', 'prcp': 0.11}, {'date': '2016-12-18', 'prcp': 0.29}, {'date': '2016-12-19', 'prcp': 0.21}, {'date': '2016-12-20', 'prcp': 0.02}, {'date': '2016-12-21', 'prcp': 0.03}, {'date': '2016-12-22', 'prcp': 0.17}, {'date': '2016-12-23', 'prcp': 0.1}, {'date': '2016-12-24', 'prcp': 0.14}, {'date': '2016-12-25', 'prcp': 0.03}, {'date': '2016-12-26', 'prcp': 0.26}, {'date': '2016-12-27', 'prcp': 0.03}, {'date': '2016-12-28', 'prcp': 0.09}, {'date': '2016-12-29', 'prcp': 0.18}, {'date': '2016-12-30', 'prcp': 0.21}, {'date': '2016-12-31', 'prcp': 0.62}, {'date': '2017-01-01', 'prcp': 0.29}, {'date': '2017-01-02', 'prcp': 0.0}, {'date': '2017-01-03', 'prcp': 0.0}, {'date': '2017-01-04', 'prcp': 0.0}, {'date': '2017-01-05', 'prcp': 0.0}, {'date': '2017-01-06', 'prcp': 0.0}, {'date': '2017-01-07', 'prcp': 0.06}, {'date': '2017-01-08', 'prcp': 0.0}, {'date': '2017-01-09', 'prcp': 0.0}, {'date': '2017-01-10', 'prcp': 0.0}, {'date': '2017-01-11', 'prcp': 0.0}, {'date': '2017-01-12', 'prcp': 0.0}, {'date': '2017-01-13', 'prcp': 0.0}, {'date': '2017-01-14', 'prcp': 0.0}, {'date': '2017-01-15', 'prcp': 0.0}, {'date': '2017-01-16', 'prcp': 0.0}, {'date': '2017-01-17', 'prcp': 0.0}, {'date': '2017-01-18', 'prcp': 0.0}, {'date': '2017-01-19', 'prcp': 0.0}, {'date': '2017-01-20', 'prcp': 0.0}, {'date': '2017-01-21', 'prcp': 0.04}, {'date': '2017-01-22', 'prcp': 0.01}, {'date': '2017-01-23', 'prcp': 0.08}, {'date': '2017-01-24', 'prcp': 0.15}, {'date': '2017-01-25', 'prcp': 0.12}, {'date': '2017-01-26', 'prcp': 0.0}, {'date': '2017-01-27', 'prcp': 0.0}, {'date': '2017-01-28', 'prcp': 0.14}, {'date': '2017-01-29', 'prcp': 0.0}, {'date': '2017-01-30', 'prcp': 0.0}, {'date': '2017-01-31', 'prcp': 0.0}, {'date': '2017-02-01', 'prcp': 0.0}, {'date': '2017-02-02', 'prcp': 0.0}, {'date': '2017-02-03', 'prcp': 0.0}, {'date': '2017-02-04', 'prcp': 0.0}, {'date': '2017-02-05', 'prcp': 0.0}, {'date': '2017-02-06', 'prcp': 0.16}, {'date': '2017-02-07', 'prcp': 1.08}, {'date': '2017-02-08', 'prcp': 1.08}, {'date': '2017-02-09', 'prcp': 0.02}, {'date': '2017-02-10', 'prcp': 0.0}, {'date': '2017-02-11', 'prcp': 1.0}, {'date': '2017-02-12', 'prcp': 1.07}, {'date': '2017-02-13', 'prcp': 2.9}, {'date': '2017-02-14', 'prcp': 0.0}, {'date': '2017-02-15', 'prcp': 0.0}, {'date': '2017-02-16', 'prcp': 0.0}, {'date': '2017-02-17', 'prcp': 0.8}, {'date': '2017-02-18', 'prcp': 0.0}, {'date': '2017-02-19', 'prcp': 0.0}, {'date': '2017-02-20', 'prcp': 0.0}, {'date': '2017-02-21', 'prcp': 0.0}, {'date': '2017-02-22', 'prcp': 0.06}, {'date': '2017-02-23', 'prcp': 0.0}, {'date': '2017-02-24', 'prcp': 0.0}, {'date': '2017-02-25', 'prcp': 0.0}, {'date': '2017-02-26', 'prcp': 0.0}, {'date': '2017-02-27', 'prcp': 0.0}, {'date': '2017-02-28', 'prcp': 0.16}, {'date': '2017-03-01', 'prcp': 2.2}, {'date': '2017-03-02', 'prcp': 1.45}, {'date': '2017-03-03', 'prcp': 0.54}, {'date': '2017-03-04', 'prcp': 0.0}, {'date': '2017-03-05', 'prcp': 0.1}, {'date': '2017-03-06', 'prcp': 0.51}, {'date': '2017-03-07', 'prcp': 0.0}, {'date': '2017-03-08', 'prcp': 0.0}, {'date': '2017-03-09', 'prcp': 0.8}, {'date': '2017-03-10', 'prcp': 0.13}, {'date': '2017-03-11', 'prcp': 0.03}, {'date': '2017-03-12', 'prcp': 0.0}, {'date': '2017-03-13', 'prcp': 0.0}, {'date': '2017-03-14', 'prcp': 0.0}, {'date': '2017-03-15', 'prcp': 0.0}, {'date': '2017-03-16', 'prcp': 0.0}, {'date': '2017-03-17', 'prcp': 0.19}, {'date': '2017-03-18', 'prcp': 0.0}, {'date': '2017-03-19', 'prcp': 0.0}, {'date': '2017-03-20', 'prcp': 0.0}, {'date': '2017-03-21', 'prcp': 0.0}, {'date': '2017-03-22', 'prcp': 0.0}, {'date': '2017-03-23', 'prcp': 0.0}, {'date': '2017-03-24', 'prcp': 0.6}, {'date': '2017-03-25', 'prcp': 0.13}, {'date': '2017-03-26', 'prcp': 0.0}, {'date': '2017-03-27', 'prcp': 0.0}, {'date': '2017-03-28', 'prcp': 0.03}, {'date': '2017-03-29', 'prcp': 0.0}, {'date': '2017-03-30', 'prcp': 0.08}, {'date': '2017-03-31', 'prcp': 0.0}, {'date': '2017-04-01', 'prcp': 0.0}, {'date': '2017-04-02', 'prcp': 0.0}, {'date': '2017-04-03', 'prcp': 0.08}, {'date': '2017-04-04', 'prcp': 0.04}, {'date': '2017-04-05', 'prcp': 0.04}, {'date': '2017-04-06', 'prcp': 0.0}, {'date': '2017-04-07', 'prcp': 0.0}, {'date': '2017-04-08', 'prcp': 0.0}, {'date': '2017-04-09', 'prcp': 0.0}, {'date': '2017-04-10', 'prcp': 0.01}, {'date': '2017-04-11', 'prcp': 0.03}, {'date': '2017-04-12', 'prcp': 0.03}, {'date': '2017-04-13', 'prcp': 0.27}, {'date': '2017-04-14', 'prcp': 0.69}, {'date': '2017-04-15', 'prcp': 0.45}, {'date': '2017-04-16', 'prcp': 0.49}, {'date': '2017-04-17', 'prcp': 0.41}, {'date': '2017-04-18', 'prcp': 0.08}, {'date': '2017-04-19', 'prcp': 0.02}, {'date': '2017-04-20', 'prcp': 0.33}, {'date': '2017-04-21', 'prcp': 1.16}, {'date': '2017-04-22', 'prcp': 1.01}, {'date': '2017-04-23', 'prcp': 0.02}, {'date': '2017-04-24', 'prcp': 0.0}, {'date': '2017-04-25', 'prcp': 0.0}, {'date': '2017-04-26', 'prcp': 0.0}, {'date': '2017-04-27', 'prcp': 0.1}, {'date': '2017-04-28', 'prcp': 2.6}, {'date': '2017-04-29', 'prcp': 0.35}, {'date': '2017-04-30', 'prcp': 1.21}, {'date': '2017-05-01', 'prcp': 0.07}, {'date': '2017-05-02', 'prcp': 0.03}, {'date': '2017-05-03', 'prcp': 0.01}, {'date': '2017-05-04', 'prcp': 0.0}, {'date': '2017-05-05', 'prcp': 0.0}, {'date': '2017-05-06', 'prcp': 0.0}, {'date': '2017-05-07', 'prcp': 0.07}, {'date': '2017-05-08', 'prcp': 0.22}, {'date': '2017-05-09', 'prcp': 1.62}, {'date': '2017-05-10', 'prcp': 0.05}, {'date': '2017-05-11', 'prcp': 0.03}, {'date': '2017-05-12', 'prcp': 0.04}, {'date': '2017-05-13', 'prcp': 0.02}, {'date': '2017-05-14', 'prcp': 0.05}, {'date': '2017-05-15', 'prcp': 0.08}, {'date': '2017-05-16', 'prcp': 0.03}, {'date': '2017-05-17', 'prcp': 0.02}, {'date': '2017-05-18', 'prcp': 0.09}, {'date': '2017-05-19', 'prcp': 0.02}, {'date': '2017-05-20', 'prcp': 0.0}, {'date': '2017-05-21', 'prcp': 0.0}, {'date': '2017-05-22', 'prcp': 0.0}, {'date': '2017-05-23', 'prcp': 0.02}, {'date': '2017-05-24', 'prcp': 0.58}, {'date': '2017-05-25', 'prcp': 0.37}, {'date': '2017-05-26', 'prcp': 0.02}, {'date': '2017-05-27', 'prcp': 0.0}, {'date': '2017-05-28', 'prcp': 0.29}, {'date': '2017-05-29', 'prcp': 0.02}, {'date': '2017-05-30', 'prcp': 0.2}, {'date': '2017-05-31', 'prcp': 0.1}, {'date': '2017-06-01', 'prcp': 0.03}, {'date': '2017-06-02', 'prcp': 0.1}, {'date': '2017-06-03', 'prcp': 0.2}, {'date': '2017-06-04', 'prcp': 0.15}, {'date': '2017-06-05', 'prcp': 0.0}, {'date': '2017-06-06', 'prcp': 0.0}, {'date': '2017-06-07', 'prcp': 0.0}, {'date': '2017-06-08', 'prcp': 0.02}, {'date': '2017-06-09', 'prcp': 0.02}, {'date': '2017-06-10', 'prcp': 0.21}, {'date': '2017-06-11', 'prcp': 0.24}, {'date': '2017-06-12', 'prcp': 0.19}, {'date': '2017-06-13', 'prcp': 0.36}, {'date': '2017-06-14', 'prcp': 0.27}, {'date': '2017-06-15', 'prcp': 0.17}, {'date': '2017-06-16', 'prcp': 0.02}, {'date': '2017-06-17', 'prcp': 0.35}, {'date': '2017-06-18', 'prcp': 0.25}, {'date': '2017-06-19', 'prcp': 0.05}, {'date': '2017-06-20', 'prcp': 0.05}, {'date': '2017-06-21', 'prcp': 0.02}, {'date': '2017-06-22', 'prcp': 0.1}, {'date': '2017-06-23', 'prcp': 0.0}, {'date': '2017-06-24', 'prcp': 0.0}, {'date': '2017-06-25', 'prcp': 0.08}, {'date': '2017-06-26', 'prcp': 0.02}, {'date': '2017-06-27', 'prcp': 0.0}, {'date': '2017-06-28', 'prcp': 0.01}, {'date': '2017-06-29', 'prcp': 0.03}, {'date': '2017-06-30', 'prcp': 0.04}, {'date': '2017-07-01', 'prcp': 0.06}, {'date': '2017-07-02', 'prcp': 0.05}, {'date': '2017-07-03', 'prcp': 0.13}, {'date': '2017-07-04', 'prcp': 0.03}, {'date': '2017-07-05', 'prcp': 0.0}, {'date': '2017-07-06', 'prcp': 0.0}, {'date': '2017-07-07', 'prcp': 0.02}, {'date': '2017-07-08', 'prcp': 0.02}, {'date': '2017-07-09', 'prcp': 0.09}, {'date': '2017-07-10', 'prcp': 0.0}, {'date': '2017-07-11', 'prcp': 0.01}, {'date': '2017-07-12', 'prcp': 0.01}, {'date': '2017-07-13', 'prcp': 0.33}, {'date': '2017-07-14', 'prcp': 0.05}, {'date': '2017-07-15', 'prcp': 0.03}, {'date': '2017-07-16', 'prcp': 0.07}, {'date': '2017-07-17', 'prcp': 0.12}, {'date': '2017-07-18', 'prcp': 0.03}, {'date': '2017-07-19', 'prcp': 0.0}, {'date': '2017-07-20', 'prcp': 0.12}, {'date': '2017-07-21', 'prcp': 0.0}, {'date': '2017-07-22', 'prcp': 0.07}, {'date': '2017-07-23', 'prcp': 0.06}, {'date': '2017-07-24', 'prcp': 0.58}, {'date': '2017-07-25', 'prcp': 0.03}, {'date': '2017-07-26', 'prcp': 0.06}, {'date': '2017-07-27', 'prcp': 0.0}, {'date': '2017-07-28', 'prcp': 0.13}, {'date': '2017-07-29', 'prcp': 0.06}, {'date': '2017-07-30', 'prcp': 0.0}, {'date': '2017-07-31', 'prcp': 0.0}, {'date': '2016-08-24', 'prcp': 2.28}, {'date': '2016-08-25', 'prcp': 0.0}, {'date': '2016-08-26', 'prcp': 0.02}, {'date': '2016-08-27', 'prcp': 0.02}, {'date': '2016-08-28', 'prcp': 0.14}, {'date': '2016-08-29', 'prcp': 0.04}, {'date': '2016-08-31', 'prcp': None}, {'date': '2016-09-01', 'prcp': 0.0}, {'date': '2016-09-02', 'prcp': 0.19}, {'date': '2016-09-05', 'prcp': None}, {'date': '2016-09-06', 'prcp': 0.04}, {'date': '2016-09-07', 'prcp': 0.23}, {'date': '2016-09-08', 'prcp': 0.01}, {'date': '2016-09-09', 'prcp': 0.29}, {'date': '2016-09-12', 'prcp': None}, {'date': '2016-09-13', 'prcp': 0.32}, {'date': '2016-09-14', 'prcp': 1.84}, {'date': '2016-09-15', 'prcp': 0.07}, {'date': '2016-09-16', 'prcp': 0.07}, {'date': '2016-09-19', 'prcp': None}, {'date': '2016-09-20', 'prcp': 0.25}, {'date': '2016-09-21', 'prcp': 0.02}, {'date': '2016-09-22', 'prcp': 0.17}, {'date': '2016-09-23', 'prcp': 0.15}, {'date': '2016-09-24', 'prcp': 0.0}, {'date': '2016-09-25', 'prcp': 0.0}, {'date': '2016-09-26', 'prcp': 0.02}, {'date': '2016-09-27', 'prcp': 0.0}, {'date': '2016-09-28', 'prcp': 0.0}, {'date': '2016-09-29', 'prcp': 0.2}, {'date': '2016-09-30', 'prcp': 0.06}, {'date': '2016-10-01', 'prcp': 0.08}, {'date': '2016-10-02', 'prcp': 0.03}, {'date': '2016-10-03', 'prcp': 0.03}, {'date': '2016-10-04', 'prcp': 0.0}, {'date': '2016-10-05', 'prcp': 0.0}, {'date': '2016-10-06', 'prcp': 0.0}, {'date': '2016-10-07', 'prcp': 0.0}, {'date': '2016-10-10', 'prcp': None}, {'date': '2016-10-11', 'prcp': 0.04}, {'date': '2016-10-12', 'prcp': 0.0}, {'date': '2016-10-13', 'prcp': 0.02}, {'date': '2016-10-14', 'prcp': 0.0}, {'date': '2016-10-15', 'prcp': 0.02}, {'date': '2016-10-17', 'prcp': None}, {'date': '2016-10-18', 'prcp': 0.03}, {'date': '2016-10-19', 'prcp': 0.0}, {'date': '2016-10-20', 'prcp': 0.01}, {'date': '2016-10-21', 'prcp': 0.03}, {'date': '2016-10-23', 'prcp': None}, {'date': '2016-10-24', 'prcp': 0.01}, {'date': '2016-10-25', 'prcp': 0.0}, {'date': '2016-10-27', 'prcp': 0.2}, {'date': '2016-10-28', 'prcp': 0.07}, {'date': '2016-10-29', 'prcp': 0.26}, {'date': '2016-10-30', 'prcp': 0.14}, {'date': '2016-10-31', 'prcp': 0.0}, {'date': '2016-11-01', 'prcp': 0.0}, {'date': '2016-11-02', 'prcp': 0.0}, {'date': '2016-11-03', 'prcp': 0.0}, {'date': '2016-11-04', 'prcp': 0.0}, {'date': '2016-11-05', 'prcp': 0.0}, {'date': '2016-11-06', 'prcp': 0.0}, {'date': '2016-11-07', 'prcp': 0.13}, {'date': '2016-11-08', 'prcp': 0.02}, {'date': '2016-11-09', 'prcp': 0.17}, {'date': '2016-11-10', 'prcp': 0.0}, {'date': '2016-11-11', 'prcp': 0.0}, {'date': '2016-11-12', 'prcp': 0.0}, {'date': '2016-11-13', 'prcp': 0.0}, {'date': '2016-11-14', 'prcp': 0.05}, {'date': '2016-11-15', 'prcp': 0.0}, {'date': '2016-11-16', 'prcp': 0.18}, {'date': '2016-11-17', 'prcp': 0.0}, {'date': '2016-11-22', 'prcp': None}, {'date': '2016-11-25', 'prcp': None}, {'date': '2016-11-26', 'prcp': 0.02}, {'date': '2016-11-27', 'prcp': 0.03}, {'date': '2016-11-28', 'prcp': 0.0}, {'date': '2016-11-29', 'prcp': 0.04}, {'date': '2016-11-30', 'prcp': 0.03}, {'date': '2016-12-01', 'prcp': 0.07}, {'date': '2016-12-02', 'prcp': 0.4}, {'date': '2016-12-03', 'prcp': 0.26}, {'date': '2016-12-04', 'prcp': 0.0}, {'date': '2016-12-05', 'prcp': 0.2}, {'date': '2016-12-07', 'prcp': None}, {'date': '2016-12-08', 'prcp': 0.02}, {'date': '2016-12-09', 'prcp': 0.26}, {'date': '2016-12-10', 'prcp': 0.0}, {'date': '2016-12-12', 'prcp': None}, {'date': '2016-12-13', 'prcp': 0.34}, {'date': '2016-12-14', 'prcp': 0.12}, {'date': '2016-12-15', 'prcp': 0.07}, {'date': '2016-12-16', 'prcp': 0.0}, {'date': '2016-12-17', 'prcp': 0.0}, {'date': '2016-12-18', 'prcp': 0.04}, {'date': '2016-12-19', 'prcp': 0.0}, {'date': '2016-12-20', 'prcp': 0.0}, {'date': '2016-12-21', 'prcp': 0.09}, {'date': '2016-12-22', 'prcp': 0.05}, {'date': '2016-12-23', 'prcp': 0.03}, {'date': '2016-12-24', 'prcp': 0.13}, {'date': '2016-12-26', 'prcp': None}, {'date': '2016-12-27', 'prcp': 0.02}, {'date': '2016-12-28', 'prcp': 0.01}, {'date': '2016-12-29', 'prcp': 0.56}, {'date': '2016-12-30', 'prcp': 0.29}, {'date': '2016-12-31', 'prcp': 0.36}, {'date': '2017-01-01', 'prcp': 0.0}, {'date': '2017-01-02', 'prcp': 0.01}, {'date': '2017-01-03', 'prcp': 0.0}, {'date': '2017-01-04', 'prcp': 0.0}, {'date': '2017-01-05', 'prcp': 0.0}, {'date': '2017-01-06', 'prcp': 0.59}, {'date': '2017-01-07', 'prcp': 0.0}, {'date': '2017-01-08', 'prcp': 0.03}, {'date': '2017-01-09', 'prcp': 0.0}, {'date': '2017-01-10', 'prcp': 0.0}, {'date': '2017-01-11', 'prcp': 0.0}, {'date': '2017-01-13', 'prcp': None}, {'date': '2017-01-14', 'prcp': 0.0}, {'date': '2017-01-16', 'prcp': None}, {'date': '2017-01-17', 'prcp': 0.0}, {'date': '2017-01-18', 'prcp': 0.0}, {'date': '2017-01-19', 'prcp': 0.0}, {'date': '2017-01-20', 'prcp': 0.0}, {'date': '2017-01-21', 'prcp': 0.02}, {'date': '2017-01-23', 'prcp': None}, {'date': '2017-01-25', 'prcp': None}, {'date': '2017-01-26', 'prcp': 0.01}, {'date': '2017-01-27', 'prcp': 0.0}, {'date': '2017-01-28', 'prcp': 0.0}, {'date': '2017-01-30', 'prcp': None}, {'date': '2017-01-31', 'prcp': 0.0}, {'date': '2017-02-01', 'prcp': 0.0}, {'date': '2017-02-02', 'prcp': 0.0}, {'date': '2017-02-03', 'prcp': 0.0}, {'date': '2017-02-05', 'prcp': None}, {'date': '2017-02-06', 'prcp': 0.04}, {'date': '2017-02-07', 'prcp': 0.9}, {'date': '2017-02-08', 'prcp': 0.0}, {'date': '2017-02-09', 'prcp': 0.0}, {'date': '2017-02-10', 'prcp': 0.0}, {'date': '2017-02-11', 'prcp': 2.39}, {'date': '2017-02-12', 'prcp': 1.91}, {'date': '2017-02-13', 'prcp': 0.0}, {'date': '2017-02-14', 'prcp': 0.0}, {'date': '2017-02-15', 'prcp': 0.0}, {'date': '2017-02-16', 'prcp': 0.62}, {'date': '2017-02-17', 'prcp': 0.06}, {'date': '2017-02-20', 'prcp': None}, {'date': '2017-02-21', 'prcp': 0.0}, {'date': '2017-02-22', 'prcp': 0.11}, {'date': '2017-02-23', 'prcp': 0.0}, {'date': '2017-02-24', 'prcp': 0.0}, {'date': '2017-02-26', 'prcp': None}, {'date': '2017-02-27', 'prcp': 0.0}, {'date': '2017-02-28', 'prcp': 0.04}, {'date': '2017-03-01', 'prcp': 1.12}, {'date': '2017-03-03', 'prcp': None}, {'date': '2017-03-06', 'prcp': None}, {'date': '2017-03-07', 'prcp': 0.0}, {'date': '2017-03-08', 'prcp': 0.0}, {'date': '2017-03-09', 'prcp': 0.5}, {'date': '2017-03-10', 'prcp': 0.13}, {'date': '2017-03-12', 'prcp': None}, {'date': '2017-03-13', 'prcp': 0.0}, {'date': '2017-03-14', 'prcp': 0.0}, {'date': '2017-03-16', 'prcp': None}, {'date': '2017-03-17', 'prcp': 0.06}, {'date': '2017-03-18', 'prcp': 0.0}, {'date': '2017-03-20', 'prcp': None}, {'date': '2017-03-21', 'prcp': 0.0}, {'date': '2017-03-22', 'prcp': 0.0}, {'date': '2017-03-23', 'prcp': 0.0}, {'date': '2017-03-24', 'prcp': 0.15}, {'date': '2017-03-27', 'prcp': None}, {'date': '2017-03-28', 'prcp': 0.0}, {'date': '2017-03-29', 'prcp': 0.03}, {'date': '2017-03-30', 'prcp': 0.03}, {'date': '2017-03-31', 'prcp': 0.0}, {'date': '2017-04-01', 'prcp': 0.0}, {'date': '2017-04-02', 'prcp': 0.0}, {'date': '2017-04-03', 'prcp': 0.09}, {'date': '2017-04-04', 'prcp': 0.0}, {'date': '2017-04-05', 'prcp': 0.07}, {'date': '2017-04-06', 'prcp': 0.0}, {'date': '2017-04-07', 'prcp': 0.0}, {'date': '2017-04-09', 'prcp': None}, {'date': '2017-04-10', 'prcp': 0.0}, {'date': '2017-04-11', 'prcp': 0.16}, {'date': '2017-04-12', 'prcp': 0.29}, {'date': '2017-04-13', 'prcp': 0.0}, {'date': '2017-04-14', 'prcp': 0.29}, {'date': '2017-04-17', 'prcp': None}, {'date': '2017-04-18', 'prcp': 0.12}, {'date': '2017-04-19', 'prcp': 0.0}, {'date': '2017-04-20', 'prcp': 0.0}, {'date': '2017-04-21', 'prcp': 1.05}, {'date': '2017-04-22', 'prcp': 0.7}, {'date': '2017-04-24', 'prcp': None}, {'date': '2017-04-25', 'prcp': 0.0}, {'date': '2017-04-26', 'prcp': 0.14}, {'date': '2017-04-27', 'prcp': 0.02}, {'date': '2017-04-28', 'prcp': 0.09}, {'date': '2017-04-29', 'prcp': 0.95}, {'date': '2017-04-30', 'prcp': 1.17}, {'date': '2017-05-01', 'prcp': 0.03}, {'date': '2017-05-02', 'prcp': 0.01}, {'date': '2017-05-03', 'prcp': 0.01}, {'date': '2017-05-04', 'prcp': 0.08}, {'date': '2017-05-05', 'prcp': 0.28}, {'date': '2017-05-06', 'prcp': 0.06}, {'date': '2017-05-08', 'prcp': 0.95}, {'date': '2017-05-09', 'prcp': 0.52}, {'date': '2017-05-10', 'prcp': 0.0}, {'date': '2017-05-12', 'prcp': None}, {'date': '2017-05-15', 'prcp': None}, {'date': '2017-05-16', 'prcp': 0.05}, {'date': '2017-05-17', 'prcp': 0.0}, {'date': '2017-05-18', 'prcp': 0.16}, {'date': '2017-05-19', 'prcp': 0.01}, {'date': '2017-05-20', 'prcp': 0.01}, {'date': '2017-05-22', 'prcp': None}, {'date': '2017-05-23', 'prcp': 0.11}, {'date': '2017-05-24', 'prcp': 0.1}, {'date': '2017-05-25', 'prcp': 0.07}, {'date': '2017-05-26', 'prcp': 0.0}, {'date': '2017-05-27', 'prcp': 0.0}, {'date': '2017-05-28', 'prcp': 0.02}, {'date': '2017-05-29', 'prcp': 0.0}, {'date': '2017-05-30', 'prcp': 0.04}, {'date': '2017-05-31', 'prcp': 0.0}, {'date': '2017-06-01', 'prcp': 0.0}, {'date': '2017-06-02', 'prcp': 0.15}, {'date': '2017-06-03', 'prcp': 0.16}, {'date': '2017-06-04', 'prcp': 0.05}, {'date': '2017-06-05', 'prcp': 0.02}, {'date': '2017-06-06', 'prcp': 0.0}, {'date': '2017-06-07', 'prcp': 0.0}, {'date': '2017-06-08', 'prcp': 0.01}, {'date': '2017-06-09', 'prcp': 0.0}, {'date': '2017-06-10', 'prcp': 0.53}, {'date': '2017-06-11', 'prcp': 0.14}, {'date': '2017-06-12', 'prcp': 0.35}, {'date': '2017-06-13', 'prcp': 0.1}, {'date': '2017-06-14', 'prcp': 0.21}, {'date': '2017-06-15', 'prcp': 0.3}, {'date': '2017-06-16', 'prcp': 0.02}, {'date': '2017-06-17', 'prcp': 0.02}, {'date': '2017-06-18', 'prcp': 0.18}, {'date': '2017-06-19', 'prcp': 0.19}, {'date': '2017-06-20', 'prcp': 0.17}, {'date': '2017-06-23', 'prcp': None}, {'date': '2017-06-26', 'prcp': None}, {'date': '2017-06-29', 'prcp': None}, {'date': '2017-06-30', 'prcp': 0.0}, {'date': '2017-07-03', 'prcp': None}, {'date': '2017-07-05', 'prcp': None}, {'date': '2017-07-07', 'prcp': None}, {'date': '2017-07-08', 'prcp': 0.06}, {'date': '2017-07-09', 'prcp': 0.0}, {'date': '2017-07-10', 'prcp': 0.0}, {'date': '2017-07-11', 'prcp': 0.0}, {'date': '2017-07-12', 'prcp': 0.02}, {'date': '2017-07-13', 'prcp': 0.3}, {'date': '2017-07-14', 'prcp': 0.0}, {'date': '2017-07-15', 'prcp': 0.01}, {'date': '2017-07-16', 'prcp': 0.12}, {'date': '2017-07-17', 'prcp': 0.16}, {'date': '2017-07-18', 'prcp': 0.0}, {'date': '2017-07-19', 'prcp': 0.09}, {'date': '2017-07-20', 'prcp': 0.0}, {'date': '2017-07-21', 'prcp': 0.0}, {'date': '2017-07-22', 'prcp': 0.12}, {'date': '2017-07-23', 'prcp': 0.07}, {'date': '2017-07-24', 'prcp': 1.19}, {'date': '2017-07-25', 'prcp': 0.12}, {'date': '2017-07-26', 'prcp': 0.02}, {'date': '2017-07-27', 'prcp': 0.0}, {'date': '2017-07-28', 'prcp': 0.14}, {'date': '2017-07-29', 'prcp': 0.02}, {'date': '2017-07-31', 'prcp': None}, {'date': '2017-08-01', 'prcp': 0.12}, {'date': '2017-08-02', 'prcp': 0.05}, {'date': '2017-08-03', 'prcp': 0.01}, {'date': '2017-08-04', 'prcp': 0.04}, {'date': '2017-08-06', 'prcp': 0.0}, {'date': '2017-08-07', 'prcp': 0.0}, {'date': '2017-08-08', 'prcp': 0.1}, {'date': '2017-08-09', 'prcp': 0.0}, {'date': '2017-08-10', 'prcp': 0.0}, {'date': '2017-08-11', 'prcp': 0.0}, {'date': '2017-08-13', 'prcp': None}, {'date': '2017-08-14', 'prcp': 0.01}, {'date': '2017-08-15', 'prcp': 0.0}, {'date': '2017-08-16', 'prcp': 0.0}, {'date': '2017-08-17', 'prcp': 0.0}, {'date': '2017-08-18', 'prcp': 0.0}, {'date': '2017-08-19', 'prcp': 0.0}, {'date': '2017-08-20', 'prcp': 0.01}, {'date': '2017-08-21', 'prcp': 0.02}, {'date': '2016-08-24', 'prcp': None}, {'date': '2016-08-25', 'prcp': 0.0}, {'date': '2016-08-26', 'prcp': 0.04}, {'date': '2016-08-29', 'prcp': None}, {'date': '2016-08-30', 'prcp': 0.02}, {'date': '2016-08-31', 'prcp': None}, {'date': '2016-09-01', 'prcp': None}, {'date': '2016-09-02', 'prcp': None}, {'date': '2016-09-08', 'prcp': None}, {'date': '2016-09-09', 'prcp': None}, {'date': '2016-09-12', 'prcp': None}, {'date': '2016-09-13', 'prcp': None}, {'date': '2016-09-14', 'prcp': None}, {'date': '2016-09-15', 'prcp': None}, {'date': '2016-09-16', 'prcp': 0.0}, {'date': '2016-09-19', 'prcp': None}, {'date': '2016-09-20', 'prcp': 0.0}, {'date': '2016-09-22', 'prcp': 0.06}, {'date': '2016-09-23', 'prcp': 0.0}, {'date': '2016-09-26', 'prcp': None}, {'date': '2016-09-28', 'prcp': 0.0}, {'date': '2016-09-29', 'prcp': 0.04}, {'date': '2016-09-30', 'prcp': None}, {'date': '2016-10-03', 'prcp': None}, {'date': '2016-10-04', 'prcp': None}, {'date': '2016-10-05', 'prcp': None}, {'date': '2016-10-06', 'prcp': 0.07}, {'date': '2016-10-07', 'prcp': None}, {'date': '2016-10-11', 'prcp': None}, {'date': '2016-10-13', 'prcp': None}, {'date': '2016-10-17', 'prcp': None}, {'date': '2016-10-18', 'prcp': None}, {'date': '2016-10-19', 'prcp': None}, {'date': '2016-10-20', 'prcp': None}, {'date': '2016-10-21', 'prcp': None}, {'date': '2016-10-24', 'prcp': None}, {'date': '2016-10-25', 'prcp': 0.4}, {'date': '2016-10-26', 'prcp': 0.2}, {'date': '2016-10-27', 'prcp': None}, {'date': '2016-10-28', 'prcp': None}, {'date': '2016-10-31', 'prcp': None}, {'date': '2016-11-04', 'prcp': None}, {'date': '2016-11-07', 'prcp': None}, {'date': '2016-11-09', 'prcp': 0.0}, {'date': '2016-11-14', 'prcp': 0.02}, {'date': '2016-11-15', 'prcp': None}, {'date': '2016-11-16', 'prcp': None}, {'date': '2016-11-17', 'prcp': None}, {'date': '2016-11-18', 'prcp': None}, {'date': '2016-11-21', 'prcp': None}, {'date': '2016-11-22', 'prcp': None}, {'date': '2016-11-23', 'prcp': None}, {'date': '2016-11-28', 'prcp': None}, {'date': '2016-11-29', 'prcp': None}, {'date': '2016-11-30', 'prcp': None}, {'date': '2016-12-01', 'prcp': None}, {'date': '2016-12-02', 'prcp': None}, {'date': '2016-12-05', 'prcp': None}, {'date': '2016-12-06', 'prcp': None}, {'date': '2016-12-07', 'prcp': None}, {'date': '2016-12-08', 'prcp': 0.27}, {'date': '2016-12-09', 'prcp': None}, {'date': '2016-12-12', 'prcp': 0.02}, {'date': '2016-12-13', 'prcp': None}, {'date': '2016-12-14', 'prcp': None}, {'date': '2016-12-15', 'prcp': None}, {'date': '2016-12-16', 'prcp': None}, {'date': '2016-12-19', 'prcp': None}, {'date': '2016-12-20', 'prcp': None}, {'date': '2016-12-21', 'prcp': 0.06}, {'date': '2016-12-22', 'prcp': None}, {'date': '2016-12-23', 'prcp': None}, {'date': '2016-12-28', 'prcp': None}, {'date': '2016-12-29', 'prcp': None}, {'date': '2016-12-30', 'prcp': None}, {'date': '2017-01-09', 'prcp': None}, {'date': '2017-01-10', 'prcp': None}, {'date': '2017-01-11', 'prcp': None}, {'date': '2017-01-12', 'prcp': None}, {'date': '2017-01-13', 'prcp': None}, {'date': '2017-01-17', 'prcp': 0.0}, {'date': '2017-01-18', 'prcp': 0.0}, {'date': '2017-01-19', 'prcp': None}, {'date': '2017-01-20', 'prcp': None}, {'date': '2017-01-23', 'prcp': None}, {'date': '2017-01-24', 'prcp': None}, {'date': '2017-01-25', 'prcp': None}, {'date': '2017-01-26', 'prcp': 0.0}, {'date': '2017-01-27', 'prcp': 0.0}, {'date': '2017-01-30', 'prcp': 0.05}, {'date': '2017-01-31', 'prcp': 0.0}, {'date': '2017-02-01', 'prcp': 0.0}, {'date': '2017-02-02', 'prcp': 0.0}, {'date': '2017-02-03', 'prcp': 0.0}, {'date': '2017-02-06', 'prcp': None}, {'date': '2017-02-07', 'prcp': 0.0}, {'date': '2017-02-08', 'prcp': 0.0}, {'date': '2017-02-09', 'prcp': 0.0}, {'date': '2017-02-10', 'prcp': 0.0}, {'date': '2017-02-13', 'prcp': None}, {'date': '2017-02-14', 'prcp': 0.0}, {'date': '2017-02-15', 'prcp': None}, {'date': '2017-02-16', 'prcp': None}, {'date': '2017-02-17', 'prcp': 0.0}, {'date': '2017-02-21', 'prcp': None}, {'date': '2017-02-22', 'prcp': 0.17}, {'date': '2017-02-23', 'prcp': 0.0}, {'date': '2017-02-24', 'prcp': 0.0}, {'date': '2017-02-27', 'prcp': None}, {'date': '2017-02-28', 'prcp': None}, {'date': '2017-03-01', 'prcp': 2.4}, {'date': '2017-03-02', 'prcp': 0.44}, {'date': '2017-03-03', 'prcp': 0.14}, {'date': '2017-03-06', 'prcp': None}, {'date': '2017-03-07', 'prcp': None}, {'date': '2017-03-08', 'prcp': None}, {'date': '2017-03-09', 'prcp': 0.0}, {'date': '2017-03-10', 'prcp': 0.0}, {'date': '2017-03-13', 'prcp': None}, {'date': '2017-03-14', 'prcp': 0.06}, {'date': '2017-03-15', 'prcp': 0.0}, {'date': '2017-03-16', 'prcp': None}, {'date': '2017-03-17', 'prcp': None}, {'date': '2017-03-28', 'prcp': None}, {'date': '2017-03-29', 'prcp': None}, {'date': '2017-03-30', 'prcp': None}, {'date': '2017-03-31', 'prcp': 0.0}, {'date': '2017-04-03', 'prcp': None}, {'date': '2017-04-04', 'prcp': 0.0}, {'date': '2017-04-05', 'prcp': 0.0}, {'date': '2017-04-06', 'prcp': 0.0}, {'date': '2017-04-07', 'prcp': 0.0}, {'date': '2017-04-10', 'prcp': None}, {'date': '2017-04-11', 'prcp': None}, {'date': '2017-04-12', 'prcp': None}, {'date': '2017-04-13', 'prcp': None}, {'date': '2017-04-17', 'prcp': None}, {'date': '2017-04-18', 'prcp': 0.0}, {'date': '2017-04-19', 'prcp': None}, {'date': '2017-04-20', 'prcp': None}, {'date': '2017-04-21', 'prcp': None}, {'date': '2017-04-24', 'prcp': None}, {'date': '2017-04-25', 'prcp': None}, {'date': '2017-04-27', 'prcp': None}, {'date': '2017-04-28', 'prcp': None}, {'date': '2017-06-02', 'prcp': None}, {'date': '2017-06-05', 'prcp': None}, {'date': '2017-06-06', 'prcp': None}, {'date': '2017-06-07', 'prcp': None}, {'date': '2017-06-08', 'prcp': None}, {'date': '2017-06-09', 'prcp': None}, {'date': '2017-06-13', 'prcp': None}, {'date': '2017-06-14', 'prcp': None}, {'date': '2017-06-15', 'prcp': None}, {'date': '2017-06-16', 'prcp': None}, {'date': '2017-06-19', 'prcp': None}, {'date': '2017-06-20', 'prcp': None}, {'date': '2017-06-21', 'prcp': None}, {'date': '2017-06-22', 'prcp': 0.0}, {'date': '2017-06-23', 'prcp': 0.0}, {'date': '2017-06-26', 'prcp': None}, {'date': '2017-06-27', 'prcp': 0.0}, {'date': '2017-06-28', 'prcp': 0.0}, {'date': '2017-06-29', 'prcp': 0.0}, {'date': '2017-06-30', 'prcp': 0.12}, {'date': '2017-07-03', 'prcp': None}, {'date': '2017-07-05', 'prcp': None}, {'date': '2017-07-06', 'prcp': None}, {'date': '2017-07-07', 'prcp': None}, {'date': '2017-07-10', 'prcp': None}, {'date': '2017-07-11', 'prcp': None}, {'date': '2017-07-12', 'prcp': None}, {'date': '2017-07-13', 'prcp': None}, {'date': '2017-07-18', 'prcp': 0.0}, {'date': '2017-07-19', 'prcp': 0.0}, {'date': '2017-07-20', 'prcp': 0.0}, {'date': '2017-07-21', 'prcp': 0.0}, {'date': '2017-07-25', 'prcp': 0.0}, {'date': '2017-07-26', 'prcp': None}, {'date': '2017-07-27', 'prcp': None}, {'date': '2017-07-28', 'prcp': 0.01}, {'date': '2017-07-31', 'prcp': None}, {'date': '2016-08-24', 'prcp': 1.22}, {'date': '2016-08-25', 'prcp': 0.21}, {'date': '2016-08-26', 'prcp': 0.0}, {'date': '2016-08-27', 'prcp': 0.0}, {'date': '2016-08-28', 'prcp': 0.14}, {'date': '2016-08-29', 'prcp': 0.0}, {'date': '2016-08-30', 'prcp': 0.0}, {'date': '2016-08-31', 'prcp': 0.25}, {'date': '2016-09-02', 'prcp': None}, {'date': '2016-09-03', 'prcp': 0.08}, {'date': '2016-09-04', 'prcp': 0.74}, {'date': '2016-09-05', 'prcp': 0.02}, {'date': '2016-09-06', 'prcp': 0.03}, {'date': '2016-09-07', 'prcp': 0.11}, {'date': '2016-09-08', 'prcp': 0.01}, {'date': '2016-09-09', 'prcp': 0.23}, {'date': '2016-09-10', 'prcp': 0.14}, {'date': '2016-09-11', 'prcp': 0.12}, {'date': '2016-09-12', 'prcp': 0.15}, {'date': '2016-09-13', 'prcp': 0.46}, {'date': '2016-09-14', 'prcp': 1.19}, {'date': '2016-09-15', 'prcp': 0.17}, {'date': '2016-09-16', 'prcp': 0.01}, {'date': '2016-09-17', 'prcp': 0.0}, {'date': '2016-09-18', 'prcp': 0.04}, {'date': '2016-09-19', 'prcp': 0.05}, {'date': '2016-09-20', 'prcp': 0.04}, {'date': '2016-09-21', 'prcp': 0.0}, {'date': '2016-09-22', 'prcp': 0.01}, {'date': '2016-09-23', 'prcp': 0.0}, {'date': '2016-09-24', 'prcp': 0.0}, {'date': '2016-09-25', 'prcp': 0.0}, {'date': '2016-09-26', 'prcp': 0.34}, {'date': '2016-09-27', 'prcp': 0.05}, {'date': '2016-09-28', 'prcp': 0.0}, {'date': '2016-09-29', 'prcp': 0.18}, {'date': '2016-09-30', 'prcp': 0.15}, {'date': '2016-10-01', 'prcp': 0.07}, {'date': '2016-10-02', 'prcp': 0.0}, {'date': '2016-10-03', 'prcp': 0.0}, {'date': '2016-10-04', 'prcp': 0.0}, {'date': '2016-10-05', 'prcp': 0.0}, {'date': '2016-10-06', 'prcp': 0.0}, {'date': '2016-10-07', 'prcp': 0.0}, {'date': '2016-10-08', 'prcp': 0.0}, {'date': '2016-10-09', 'prcp': 0.0}, {'date': '2016-10-10', 'prcp': 0.0}, {'date': '2016-10-11', 'prcp': 0.0}, {'date': '2016-10-12', 'prcp': 0.0}, {'date': '2016-10-13', 'prcp': 0.0}, {'date': '2016-10-14', 'prcp': 0.0}, {'date': '2016-10-15', 'prcp': 0.0}, {'date': '2016-10-16', 'prcp': 0.0}, {'date': '2016-10-17', 'prcp': 0.12}, {'date': '2016-10-18', 'prcp': 0.02}, {'date': '2016-10-19', 'prcp': 0.0}, {'date': '2016-10-21', 'prcp': None}, {'date': '2016-10-22', 'prcp': 0.0}, {'date': '2016-10-23', 'prcp': 0.0}, {'date': '2016-10-24', 'prcp': 0.0}, {'date': '2016-10-25', 'prcp': 0.12}, {'date': '2016-10-26', 'prcp': 0.02}, {'date': '2016-10-27', 'prcp': 0.08}, {'date': '2016-10-28', 'prcp': 0.06}, {'date': '2016-10-29', 'prcp': 0.01}, {'date': '2016-10-30', 'prcp': 0.0}, {'date': '2016-10-31', 'prcp': 0.13}, {'date': '2016-11-01', 'prcp': 0.01}, {'date': '2016-11-02', 'prcp': 0.0}, {'date': '2016-11-03', 'prcp': 0.0}, {'date': '2016-11-04', 'prcp': 0.0}, {'date': '2016-11-05', 'prcp': 0.02}, {'date': '2016-11-06', 'prcp': 0.0}, {'date': '2016-11-07', 'prcp': 0.0}, {'date': '2016-11-08', 'prcp': 0.15}, {'date': '2016-11-09', 'prcp': 0.0}, {'date': '2016-11-10', 'prcp': 0.0}, {'date': '2016-11-11', 'prcp': 0.0}, {'date': '2016-11-12', 'prcp': 0.0}, {'date': '2016-11-13', 'prcp': 0.0}, {'date': '2016-11-14', 'prcp': 0.0}, {'date': '2016-11-15', 'prcp': 0.0}, {'date': '2016-11-16', 'prcp': 0.07}, {'date': '2016-11-17', 'prcp': 0.0}, {'date': '2016-11-18', 'prcp': 0.02}, {'date': '2016-11-19', 'prcp': 0.13}, {'date': '2016-11-20', 'prcp': 0.4}, {'date': '2016-11-21', 'prcp': 0.07}, {'date': '2016-11-22', 'prcp': 0.31}, {'date': '2016-11-23', 'prcp': 0.03}, {'date': '2016-11-24', 'prcp': 0.21}, {'date': '2016-11-25', 'prcp': 0.11}, {'date': '2016-11-26', 'prcp': 0.03}, {'date': '2016-11-27', 'prcp': 0.0}, {'date': '2016-11-28', 'prcp': 0.0}, {'date': '2016-11-29', 'prcp': 0.06}, {'date': '2016-11-30', 'prcp': 0.0}, {'date': '2016-12-01', 'prcp': 0.16}, {'date': '2016-12-02', 'prcp': 0.01}, {'date': '2016-12-03', 'prcp': 0.02}, {'date': '2016-12-04', 'prcp': 0.32}, {'date': '2016-12-05', 'prcp': 0.45}, {'date': '2016-12-06', 'prcp': 0.0}, {'date': '2016-12-07', 'prcp': 0.07}, {'date': '2016-12-08', 'prcp': 0.01}, {'date': '2016-12-10', 'prcp': None}, {'date': '2016-12-11', 'prcp': 0.06}, {'date': '2016-12-12', 'prcp': 0.0}, {'date': '2016-12-13', 'prcp': 0.15}, {'date': '2016-12-14', 'prcp': 0.05}, {'date': '2016-12-15', 'prcp': 0.0}, {'date': '2016-12-16', 'prcp': 0.0}, {'date': '2016-12-17', 'prcp': 0.16}, {'date': '2016-12-18', 'prcp': 0.27}, {'date': '2016-12-19', 'prcp': 0.02}, {'date': '2016-12-20', 'prcp': 0.01}, {'date': '2016-12-21', 'prcp': 0.06}, {'date': '2016-12-22', 'prcp': 0.14}, {'date': '2016-12-23', 'prcp': 0.02}, {'date': '2016-12-24', 'prcp': 0.06}, {'date': '2016-12-25', 'prcp': 0.0}, {'date': '2016-12-26', 'prcp': 0.06}, {'date': '2016-12-27', 'prcp': 0.0}, {'date': '2016-12-28', 'prcp': 0.06}, {'date': '2016-12-29', 'prcp': 0.05}, {'date': '2016-12-30', 'prcp': 0.07}, {'date': '2017-01-01', 'prcp': None}, {'date': '2017-01-03', 'prcp': None}, {'date': '2017-01-04', 'prcp': 0.18}, {'date': '2017-01-05', 'prcp': 0.42}, {'date': '2017-01-06', 'prcp': 0.01}, {'date': '2017-01-07', 'prcp': 0.0}, {'date': '2017-01-08', 'prcp': 0.0}, {'date': '2017-01-09', 'prcp': 0.0}, {'date': '2017-01-10', 'prcp': 0.0}, {'date': '2017-01-12', 'prcp': None}, {'date': '2017-01-15', 'prcp': None}, {'date': '2017-01-16', 'prcp': 0.0}, {'date': '2017-01-18', 'prcp': None}, {'date': '2017-01-19', 'prcp': 0.0}, {'date': '2017-01-20', 'prcp': 0.0}, {'date': '2017-01-21', 'prcp': 0.11}, {'date': '2017-01-22', 'prcp': 0.04}, {'date': '2017-01-23', 'prcp': 0.0}, {'date': '2017-01-24', 'prcp': 0.08}, {'date': '2017-01-25', 'prcp': 0.0}, {'date': '2017-01-26', 'prcp': 0.0}, {'date': '2017-01-27', 'prcp': 0.0}, {'date': '2017-01-29', 'prcp': None}, {'date': '2017-01-30', 'prcp': 0.0}, {'date': '2017-01-31', 'prcp': 0.0}, {'date': '2017-02-01', 'prcp': 0.0}, {'date': '2017-02-02', 'prcp': 0.0}, {'date': '2017-02-03', 'prcp': 0.0}, {'date': '2017-02-04', 'prcp': 0.0}, {'date': '2017-02-05', 'prcp': 0.0}, {'date': '2017-02-06', 'prcp': 0.0}, {'date': '2017-02-07', 'prcp': 1.8}, {'date': '2017-02-08', 'prcp': 0.0}, {'date': '2017-02-09', 'prcp': 0.0}, {'date': '2017-02-10', 'prcp': 0.0}, {'date': '2017-02-11', 'prcp': 5.04}, {'date': '2017-02-12', 'prcp': 0.07}, {'date': '2017-02-13', 'prcp': 0.0}, {'date': '2017-02-15', 'prcp': None}, {'date': '2017-02-16', 'prcp': 0.67}, {'date': '2017-02-17', 'prcp': 0.06}, {'date': '2017-02-18', 'prcp': 0.01}, {'date': '2017-02-20', 'prcp': None}, {'date': '2017-02-22', 'prcp': 0.13}, {'date': '2017-02-23', 'prcp': 0.0}, {'date': '2017-02-24', 'prcp': 0.0}, {'date': '2017-02-26', 'prcp': None}, {'date': '2017-02-27', 'prcp': 0.0}, {'date': '2017-02-28', 'prcp': 0.0}, {'date': '2017-03-01', 'prcp': 0.59}, {'date': '2017-03-02', 'prcp': 1.48}, {'date': '2017-03-03', 'prcp': 0.25}, {'date': '2017-03-04', 'prcp': 0.0}, {'date': '2017-03-06', 'prcp': None}, {'date': '2017-03-09', 'prcp': None}, {'date': '2017-03-10', 'prcp': 0.0}, {'date': '2017-03-11', 'prcp': 0.0}, {'date': '2017-03-12', 'prcp': 0.0}, {'date': '2017-03-13', 'prcp': 0.0}, {'date': '2017-03-14', 'prcp': 0.0}, {'date': '2017-03-15', 'prcp': 0.0}, {'date': '2017-03-16', 'prcp': 0.0}, {'date': '2017-03-17', 'prcp': 0.35}, {'date': '2017-03-18', 'prcp': 0.0}, {'date': '2017-03-19', 'prcp': 0.0}, {'date': '2017-03-20', 'prcp': 0.0}, {'date': '2017-03-21', 'prcp': 0.0}, {'date': '2017-03-22', 'prcp': 0.0}, {'date': '2017-03-23', 'prcp': 0.02}, {'date': '2017-03-24', 'prcp': 0.07}, {'date': '2017-03-25', 'prcp': 0.43}, {'date': '2017-03-26', 'prcp': 0.0}, {'date': '2017-03-27', 'prcp': 0.0}, {'date': '2017-03-28', 'prcp': 0.0}, {'date': '2017-03-29', 'prcp': 0.08}, {'date': '2017-03-30', 'prcp': 0.0}, {'date': '2017-03-31', 'prcp': 0.0}, {'date': '2017-04-01', 'prcp': 0.0}, {'date': '2017-04-02', 'prcp': 0.0}, {'date': '2017-04-03', 'prcp': 0.0}, {'date': '2017-04-04', 'prcp': 0.0}, {'date': '2017-04-05', 'prcp': 0.0}, {'date': '2017-04-06', 'prcp': 0.0}, {'date': '2017-04-07', 'prcp': 0.0}, {'date': '2017-04-09', 'prcp': None}, {'date': '2017-04-10', 'prcp': 0.0}, {'date': '2017-04-11', 'prcp': 0.0}, {'date': '2017-04-12', 'prcp': 0.0}, {'date': '2017-04-13', 'prcp': 0.0}, {'date': '2017-04-14', 'prcp': 0.36}, {'date': '2017-04-15', 'prcp': 0.0}, {'date': '2017-04-16', 'prcp': 0.0}, {'date': '2017-04-17', 'prcp': 0.3}, {'date': '2017-04-18', 'prcp': 0.15}, {'date': '2017-04-19', 'prcp': 0.0}, {'date': '2017-04-20', 'prcp': 0.35}, {'date': '2017-04-21', 'prcp': 2.36}, {'date': '2017-04-24', 'prcp': None}, {'date': '2017-04-25', 'prcp': 0.0}, {'date': '2017-04-26', 'prcp': 0.01}, {'date': '2017-04-27', 'prcp': 0.0}, {'date': '2017-04-28', 'prcp': 0.0}, {'date': '2017-04-29', 'prcp': 6.25}, {'date': '2017-04-30', 'prcp': 1.31}, {'date': '2017-05-01', 'prcp': 0.07}, {'date': '2017-05-02', 'prcp': 0.0}, {'date': '2017-05-03', 'prcp': 0.0}, {'date': '2017-05-04', 'prcp': 0.0}, {'date': '2017-05-05', 'prcp': 0.0}, {'date': '2017-05-06', 'prcp': 0.0}, {'date': '2017-05-07', 'prcp': 0.0}, {'date': '2017-05-08', 'prcp': 0.0}, {'date': '2017-05-09', 'prcp': 0.68}, {'date': '2017-05-10', 'prcp': 0.06}, {'date': '2017-05-11', 'prcp': 0.0}, {'date': '2017-05-12', 'prcp': 0.0}, {'date': '2017-05-13', 'prcp': 0.0}, {'date': '2017-05-14', 'prcp': 0.0}, {'date': '2017-05-15', 'prcp': 0.06}, {'date': '2017-05-16', 'prcp': 0.0}, {'date': '2017-05-17', 'prcp': 0.0}, {'date': '2017-05-18', 'prcp': 0.46}, {'date': '2017-05-20', 'prcp': None}, {'date': '2017-05-21', 'prcp': 0.0}, {'date': '2017-05-22', 'prcp': 0.0}, {'date': '2017-05-23', 'prcp': 0.0}, {'date': '2017-05-24', 'prcp': 0.61}, {'date': '2017-05-25', 'prcp': 0.55}, {'date': '2017-05-26', 'prcp': 0.0}, {'date': '2017-05-27', 'prcp': 0.0}, {'date': '2017-05-28', 'prcp': 0.0}, {'date': '2017-05-29', 'prcp': 0.0}, {'date': '2017-05-30', 'prcp': 0.11}, {'date': '2017-05-31', 'prcp': 0.0}, {'date': '2017-06-01', 'prcp': 0.0}, {'date': '2017-06-02', 'prcp': 0.0}, {'date': '2017-06-03', 'prcp': 0.15}, {'date': '2017-06-04', 'prcp': 0.0}, {'date': '2017-06-05', 'prcp': 0.0}, {'date': '2017-06-06', 'prcp': 0.0}, {'date': '2017-06-07', 'prcp': 0.0}, {'date': '2017-06-08', 'prcp': 0.0}, {'date': '2017-06-09', 'prcp': 0.0}, {'date': '2017-06-10', 'prcp': 0.13}, {'date': '2017-06-11', 'prcp': 0.25}, {'date': '2017-06-12', 'prcp': 0.14}, {'date': '2017-06-13', 'prcp': 0.03}, {'date': '2017-06-14', 'prcp': 0.06}, {'date': '2017-06-15', 'prcp': 0.0}, {'date': '2017-06-16', 'prcp': 0.0}, {'date': '2017-06-17', 'prcp': 0.0}, {'date': '2017-06-18', 'prcp': 0.0}, {'date': '2017-06-19', 'prcp': 0.01}, {'date': '2017-06-21', 'prcp': None}, {'date': '2017-06-22', 'prcp': 0.0}, {'date': '2017-06-23', 'prcp': 0.05}, {'date': '2017-06-24', 'prcp': 0.0}, {'date': '2017-06-25', 'prcp': 0.0}, {'date': '2017-06-26', 'prcp': 0.0}, {'date': '2017-06-27', 'prcp': 0.0}, {'date': '2017-06-28', 'prcp': 0.0}, {'date': '2017-06-29', 'prcp': 0.0}, {'date': '2017-06-30', 'prcp': 0.07}, {'date': '2017-07-02', 'prcp': None}, {'date': '2017-07-03', 'prcp': 0.02}, {'date': '2017-07-05', 'prcp': None}, {'date': '2017-07-06', 'prcp': 0.0}, {'date': '2017-07-07', 'prcp': 0.0}, {'date': '2017-07-08', 'prcp': 0.0}, {'date': '2017-07-09', 'prcp': 0.0}, {'date': '2017-07-10', 'prcp': 0.0}, {'date': '2017-07-11', 'prcp': 0.0}, {'date': '2017-07-12', 'prcp': 0.0}, {'date': '2017-07-13', 'prcp': 0.11}, {'date': '2017-07-14', 'prcp': 0.0}, {'date': '2017-07-15', 'prcp': 0.0}, {'date': '2017-07-16', 'prcp': 0.0}, {'date': '2017-07-17', 'prcp': 0.0}, {'date': '2017-07-18', 'prcp': 0.0}, {'date': '2017-07-19', 'prcp': 0.0}, {'date': '2017-07-20', 'prcp': 0.33}, {'date': '2017-07-21', 'prcp': 0.0}, {'date': '2017-07-22', 'prcp': 0.0}, {'date': '2017-07-24', 'prcp': None}, {'date': '2017-07-25', 'prcp': 0.05}, {'date': '2017-07-26', 'prcp': 0.0}, {'date': '2017-07-27', 'prcp': 0.0}, {'date': '2017-07-28', 'prcp': 0.0}, {'date': '2017-07-29', 'prcp': 0.0}, {'date': '2017-07-30', 'prcp': 0.0}, {'date': '2017-07-31', 'prcp': 0.0}, {'date': '2017-08-01', 'prcp': 0.0}, {'date': '2017-08-02', 'prcp': 0.0}, {'date': '2017-08-03', 'prcp': 0.0}, {'date': '2017-08-04', 'prcp': 0.0}, {'date': '2017-08-06', 'prcp': 0.0}, {'date': '2017-08-07', 'prcp': 0.0}, {'date': '2017-08-08', 'prcp': 0.0}, {'date': '2017-08-10', 'prcp': 0.0}, {'date': '2017-08-11', 'prcp': 0.0}, {'date': '2017-08-12', 'prcp': 0.0}, {'date': '2017-08-13', 'prcp': 0.0}, {'date': '2017-08-14', 'prcp': 0.08}, {'date': '2017-08-15', 'prcp': 0.06}, {'date': '2017-08-16', 'prcp': 0.07}, {'date': '2017-08-17', 'prcp': 0.05}, {'date': '2017-08-19', 'prcp': None}, {'date': '2017-08-21', 'prcp': None}, {'date': '2017-08-22', 'prcp': 0.0}, {'date': '2016-08-24', 'prcp': 2.15}, {'date': '2016-08-25', 'prcp': 0.06}, {'date': '2016-08-26', 'prcp': 0.01}, {'date': '2016-08-27', 'prcp': 0.12}, {'date': '2016-08-28', 'prcp': 0.6}, {'date': '2016-08-29', 'prcp': 0.35}, {'date': '2016-08-30', 'prcp': 0.0}, {'date': '2016-08-31', 'prcp': 0.24}, {'date': '2016-09-01', 'prcp': 0.02}, {'date': '2016-09-02', 'prcp': 0.01}, {'date': '2016-09-03', 'prcp': 0.12}, {'date': '2016-09-04', 'prcp': 0.14}, {'date': '2016-09-05', 'prcp': 0.03}, {'date': '2016-09-06', 'prcp': 0.11}, {'date': '2016-09-07', 'prcp': 0.16}, {'date': '2016-09-08', 'prcp': 0.07}, {'date': '2016-09-09', 'prcp': 0.16}, {'date': '2016-09-10', 'prcp': 0.09}, {'date': '2016-09-11', 'prcp': 0.3}, {'date': '2016-09-12', 'prcp': 0.31}, {'date': '2016-09-13', 'prcp': 0.34}, {'date': '2016-09-14', 'prcp': 2.33}, {'date': '2016-09-15', 'prcp': 0.83}, {'date': '2016-09-16', 'prcp': 0.06}, {'date': '2016-09-17', 'prcp': 0.36}, {'date': '2016-09-18', 'prcp': 0.07}, {'date': '2016-09-19', 'prcp': 0.01}, {'date': '2016-09-20', 'prcp': 0.22}, {'date': '2016-09-21', 'prcp': 0.07}, {'date': '2016-09-22', 'prcp': 0.34}, {'date': '2016-09-23', 'prcp': 0.94}, {'date': '2016-09-24', 'prcp': 0.01}, {'date': '2016-09-25', 'prcp': 0.03}, {'date': '2016-09-26', 'prcp': 0.17}, {'date': '2016-09-27', 'prcp': 0.17}, {'date': '2016-09-28', 'prcp': 0.0}, {'date': '2016-09-29', 'prcp': 0.59}, {'date': '2016-09-30', 'prcp': 0.25}, {'date': '2016-10-01', 'prcp': 0.14}, {'date': '2016-10-02', 'prcp': 0.06}, {'date': '2016-10-03', 'prcp': 0.16}, {'date': '2016-10-04', 'prcp': 0.03}, {'date': '2016-10-05', 'prcp': 0.01}, {'date': '2016-10-06', 'prcp': 0.0}, {'date': '2016-10-07', 'prcp': 0.0}, {'date': '2016-10-08', 'prcp': 0.0}, {'date': '2016-10-09', 'prcp': 0.0}, {'date': '2016-10-10', 'prcp': 0.0}, {'date': '2016-10-11', 'prcp': 0.28}, {'date': '2016-10-12', 'prcp': 0.03}, {'date': '2016-10-13', 'prcp': 0.0}, {'date': '2016-10-14', 'prcp': 0.0}, {'date': '2016-10-15', 'prcp': 0.04}, {'date': '2016-10-16', 'prcp': 0.0}, {'date': '2016-10-17', 'prcp': 0.01}, {'date': '2016-10-18', 'prcp': 0.02}, {'date': '2016-10-19', 'prcp': 0.11}, {'date': '2016-10-20', 'prcp': 0.0}, {'date': '2016-10-21', 'prcp': 0.0}, {'date': '2016-10-22', 'prcp': 0.15}, {'date': '2016-10-23', 'prcp': 0.02}, {'date': '2016-10-24', 'prcp': 0.08}, {'date': '2016-10-25', 'prcp': 0.11}, {'date': '2016-10-26', 'prcp': 0.01}, {'date': '2016-10-27', 'prcp': 0.22}, {'date': '2016-10-28', 'prcp': 0.05}, {'date': '2016-10-29', 'prcp': 0.1}, {'date': '2016-10-30', 'prcp': 0.16}, {'date': '2016-10-31', 'prcp': 0.07}, {'date': '2016-11-01', 'prcp': 0.1}, {'date': '2016-11-02', 'prcp': 0.0}, {'date': '2016-11-03', 'prcp': 0.0}, {'date': '2016-11-04', 'prcp': 0.0}, {'date': '2016-11-05', 'prcp': 0.03}, {'date': '2016-11-06', 'prcp': 0.01}, {'date': '2016-11-07', 'prcp': 0.0}, {'date': '2016-11-08', 'prcp': 0.21}, {'date': '2016-11-09', 'prcp': 0.11}, {'date': '2016-11-10', 'prcp': 0.0}, {'date': '2016-11-11', 'prcp': 0.0}, {'date': '2016-11-12', 'prcp': 0.0}, {'date': '2016-11-13', 'prcp': 0.0}, {'date': '2016-11-14', 'prcp': 0.0}, {'date': '2016-11-15', 'prcp': 0.0}, {'date': '2016-11-16', 'prcp': 0.24}, {'date': '2016-11-17', 'prcp': 0.01}, {'date': '2016-11-18', 'prcp': 0.0}, {'date': '2016-11-19', 'prcp': 0.11}, {'date': '2016-11-20', 'prcp': 0.39}, {'date': '2016-11-21', 'prcp': 0.11}, {'date': '2016-11-22', 'prcp': 2.05}, {'date': '2016-11-23', 'prcp': 0.25}, {'date': '2016-11-24', 'prcp': 0.3}, {'date': '2016-11-25', 'prcp': 0.08}, {'date': '2016-11-26', 'prcp': 0.06}, {'date': '2016-11-27', 'prcp': 0.17}, {'date': '2016-11-28', 'prcp': 0.0}, {'date': '2016-11-29', 'prcp': 0.09}, {'date': '2016-11-30', 'prcp': 0.05}, {'date': '2016-12-01', 'prcp': 0.37}, {'date': '2016-12-02', 'prcp': 0.35}, {'date': '2016-12-03', 'prcp': 0.77}, {'date': '2016-12-04', 'prcp': 0.04}, {'date': '2016-12-05', 'prcp': 0.22}, {'date': '2016-12-06', 'prcp': 0.0}, {'date': '2016-12-07', 'prcp': 0.12}, {'date': '2016-12-08', 'prcp': 0.07}, {'date': '2016-12-09', 'prcp': 0.31}, {'date': '2016-12-10', 'prcp': 0.02}, {'date': '2016-12-11', 'prcp': 0.0}, {'date': '2016-12-12', 'prcp': 0.0}, {'date': '2016-12-13', 'prcp': 0.04}, {'date': '2016-12-14', 'prcp': 0.92}, {'date': '2016-12-15', 'prcp': 0.14}, {'date': '2016-12-16', 'prcp': 0.03}, {'date': '2016-12-17', 'prcp': 0.07}, {'date': '2016-12-18', 'prcp': 0.16}, {'date': '2016-12-19', 'prcp': 0.03}, {'date': '2016-12-20', 'prcp': 0.0}, {'date': '2016-12-21', 'prcp': 0.11}, {'date': '2016-12-22', 'prcp': 0.86}, {'date': '2016-12-23', 'prcp': 0.24}, {'date': '2016-12-24', 'prcp': 0.2}, {'date': '2016-12-25', 'prcp': 0.02}, {'date': '2016-12-26', 'prcp': 0.22}, {'date': '2016-12-27', 'prcp': 0.05}, {'date': '2016-12-28', 'prcp': 0.09}, {'date': '2016-12-29', 'prcp': 0.52}, {'date': '2016-12-30', 'prcp': 0.29}, {'date': '2016-12-31', 'prcp': 0.25}, {'date': '2017-01-01', 'prcp': 0.03}, {'date': '2017-01-02', 'prcp': 0.01}, {'date': '2017-01-03', 'prcp': 0.0}, {'date': '2017-01-04', 'prcp': 0.0}, {'date': '2017-01-05', 'prcp': 0.06}, {'date': '2017-01-06', 'prcp': 0.1}, {'date': '2017-01-07', 'prcp': 0.0}, {'date': '2017-01-08', 'prcp': 0.0}, {'date': '2017-01-09', 'prcp': 0.0}, {'date': '2017-01-10', 'prcp': 0.0}, {'date': '2017-01-11', 'prcp': 0.0}, {'date': '2017-01-12', 'prcp': 0.0}, {'date': '2017-01-13', 'prcp': 0.0}, {'date': '2017-01-14', 'prcp': 0.01}, {'date': '2017-01-15', 'prcp': 0.0}, {'date': '2017-01-16', 'prcp': 0.0}, {'date': '2017-01-17', 'prcp': 0.0}, {'date': '2017-01-18', 'prcp': 0.0}, {'date': '2017-01-19', 'prcp': 0.02}, {'date': '2017-01-20', 'prcp': 0.0}, {'date': '2017-01-21', 'prcp': 0.03}, {'date': '2017-01-22', 'prcp': 0.09}, {'date': '2017-01-23', 'prcp': 0.01}, {'date': '2017-01-24', 'prcp': 0.13}, {'date': '2017-01-25', 'prcp': 0.79}, {'date': '2017-01-26', 'prcp': 0.0}, {'date': '2017-01-27', 'prcp': 0.03}, {'date': '2017-01-28', 'prcp': 0.0}, {'date': '2017-01-29', 'prcp': 0.26}, {'date': '2017-01-30', 'prcp': 0.0}, {'date': '2017-01-31', 'prcp': 0.0}, {'date': '2017-02-01', 'prcp': 0.0}, {'date': '2017-02-02', 'prcp': 0.0}, {'date': '2017-02-03', 'prcp': 0.0}, {'date': '2017-02-04', 'prcp': 0.0}, {'date': '2017-02-05', 'prcp': 0.0}, {'date': '2017-02-06', 'prcp': 0.18}, {'date': '2017-02-07', 'prcp': 1.32}, {'date': '2017-02-08', 'prcp': 0.0}, {'date': '2017-02-09', 'prcp': 0.0}, {'date': '2017-02-10', 'prcp': 0.0}, {'date': '2017-02-11', 'prcp': 1.73}, {'date': '2017-02-12', 'prcp': 2.98}, {'date': '2017-02-13', 'prcp': 0.01}, {'date': '2017-02-14', 'prcp': 0.0}, {'date': '2017-02-15', 'prcp': 0.01}, {'date': '2017-02-16', 'prcp': 0.73}, {'date': '2017-02-17', 'prcp': 0.13}, {'date': '2017-02-18', 'prcp': 0.0}, {'date': '2017-02-19', 'prcp': 0.09}, {'date': '2017-02-20', 'prcp': 0.0}, {'date': '2017-02-21', 'prcp': 0.0}, {'date': '2017-02-22', 'prcp': 0.06}, {'date': '2017-02-23', 'prcp': 0.0}, {'date': '2017-02-24', 'prcp': 0.0}, {'date': '2017-02-25', 'prcp': 0.0}, {'date': '2017-02-26', 'prcp': 0.0}, {'date': '2017-02-27', 'prcp': 0.0}, {'date': '2017-02-28', 'prcp': 0.04}, {'date': '2017-03-01', 'prcp': 2.12}, {'date': '2017-03-02', 'prcp': 1.88}, {'date': '2017-03-03', 'prcp': 0.27}, {'date': '2017-03-04', 'prcp': 0.0}, {'date': '2017-03-05', 'prcp': 0.41}, {'date': '2017-03-06', 'prcp': 0.03}, {'date': '2017-03-07', 'prcp': 0.0}, {'date': '2017-03-08', 'prcp': 0.0}, {'date': '2017-03-09', 'prcp': 0.65}, {'date': '2017-03-10', 'prcp': 0.03}, {'date': '2017-03-11', 'prcp': 0.01}, {'date': '2017-03-12', 'prcp': 0.0}, {'date': '2017-03-13', 'prcp': 0.0}, {'date': '2017-03-14', 'prcp': 0.0}, {'date': '2017-03-15', 'prcp': 0.06}, {'date': '2017-03-16', 'prcp': 0.0}, {'date': '2017-03-17', 'prcp': 0.12}, {'date': '2017-03-18', 'prcp': 0.0}, {'date': '2017-03-19', 'prcp': 0.0}, {'date': '2017-03-20', 'prcp': 0.02}, {'date': '2017-03-21', 'prcp': 0.09}, {'date': '2017-03-22', 'prcp': 0.0}, {'date': '2017-03-23', 'prcp': 0.0}, {'date': '2017-03-24', 'prcp': 0.12}, {'date': '2017-03-25', 'prcp': 0.93}, {'date': '2017-03-26', 'prcp': 0.0}, {'date': '2017-03-27', 'prcp': 0.01}, {'date': '2017-03-28', 'prcp': 0.0}, {'date': '2017-03-29', 'prcp': 0.01}, {'date': '2017-03-30', 'prcp': 0.04}, {'date': '2017-03-31', 'prcp': 0.01}, {'date': '2017-04-01', 'prcp': 0.21}, {'date': '2017-04-02', 'prcp': 0.0}, {'date': '2017-04-03', 'prcp': 0.26}, {'date': '2017-04-04', 'prcp': 0.09}, {'date': '2017-04-05', 'prcp': 0.1}, {'date': '2017-04-06', 'prcp': 0.06}, {'date': '2017-04-07', 'prcp': 0.0}, {'date': '2017-04-08', 'prcp': 0.0}, {'date': '2017-04-09', 'prcp': 0.0}, {'date': '2017-04-10', 'prcp': 0.01}, {'date': '2017-04-11', 'prcp': 0.03}, {'date': '2017-04-12', 'prcp': 0.11}, {'date': '2017-04-13', 'prcp': 0.59}, {'date': '2017-04-14', 'prcp': 2.3}, {'date': '2017-04-15', 'prcp': 0.38}, {'date': '2017-04-16', 'prcp': 0.47}, {'date': '2017-04-17', 'prcp': 1.04}, {'date': '2017-04-18', 'prcp': 2.03}, {'date': '2017-04-19', 'prcp': 0.02}, {'date': '2017-04-20', 'prcp': 0.05}, {'date': '2017-04-21', 'prcp': 1.74}, {'date': '2017-04-22', 'prcp': 1.58}, {'date': '2017-04-23', 'prcp': 0.06}, {'date': '2017-04-24', 'prcp': 0.01}, {'date': '2017-04-25', 'prcp': 0.0}, {'date': '2017-04-26', 'prcp': 0.02}, {'date': '2017-04-27', 'prcp': 0.19}, {'date': '2017-04-28', 'prcp': 0.76}, {'date': '2017-04-29', 'prcp': 0.37}, {'date': '2017-04-30', 'prcp': 1.04}, {'date': '2017-05-01', 'prcp': 0.13}, {'date': '2017-05-02', 'prcp': 0.01}, {'date': '2017-05-03', 'prcp': 0.01}, {'date': '2017-05-04', 'prcp': 0.0}, {'date': '2017-05-05', 'prcp': 0.0}, {'date': '2017-05-06', 'prcp': 0.0}, {'date': '2017-05-07', 'prcp': 0.02}, {'date': '2017-05-08', 'prcp': 0.73}, {'date': '2017-05-09', 'prcp': 1.58}, {'date': '2017-05-10', 'prcp': 0.2}, {'date': '2017-05-11', 'prcp': 0.12}, {'date': '2017-05-12', 'prcp': 0.02}, {'date': '2017-05-13', 'prcp': 0.12}, {'date': '2017-05-14', 'prcp': 0.17}, {'date': '2017-05-15', 'prcp': 0.09}, {'date': '2017-05-16', 'prcp': 0.03}, {'date': '2017-05-17', 'prcp': 0.07}, {'date': '2017-05-18', 'prcp': 0.13}, {'date': '2017-05-19', 'prcp': 0.01}, {'date': '2017-05-20', 'prcp': 0.02}, {'date': '2017-05-21', 'prcp': 0.01}, {'date': '2017-05-22', 'prcp': 0.06}, {'date': '2017-05-23', 'prcp': 0.06}, {'date': '2017-05-24', 'prcp': 0.3}, {'date': '2017-05-25', 'prcp': 0.2}, {'date': '2017-05-26', 'prcp': 0.0}, {'date': '2017-05-27', 'prcp': 0.0}, {'date': '2017-05-28', 'prcp': 0.08}, {'date': '2017-05-29', 'prcp': 0.4}, {'date': '2017-05-30', 'prcp': 1.12}, {'date': '2017-05-31', 'prcp': 0.25}, {'date': '2017-06-01', 'prcp': 0.0}, {'date': '2017-06-02', 'prcp': 0.09}, {'date': '2017-06-03', 'prcp': 0.08}, {'date': '2017-06-04', 'prcp': 0.13}, {'date': '2017-06-05', 'prcp': 0.05}, {'date': '2017-06-06', 'prcp': 0.0}, {'date': '2017-06-07', 'prcp': 0.0}, {'date': '2017-06-08', 'prcp': 0.0}, {'date': '2017-06-09', 'prcp': 0.02}, {'date': '2017-06-10', 'prcp': 0.62}, {'date': '2017-06-11', 'prcp': 0.74}, {'date': '2017-06-12', 'prcp': 0.24}, {'date': '2017-06-13', 'prcp': 0.24}, {'date': '2017-06-14', 'prcp': 0.22}, {'date': '2017-06-15', 'prcp': 0.55}, {'date': '2017-06-16', 'prcp': 0.06}, {'date': '2017-06-17', 'prcp': 0.07}, {'date': '2017-06-18', 'prcp': 0.24}, {'date': '2017-06-19', 'prcp': 0.08}, {'date': '2017-06-20', 'prcp': 0.0}, {'date': '2017-06-21', 'prcp': 0.19}, {'date': '2017-06-22', 'prcp': 0.06}, {'date': '2017-06-23', 'prcp': 0.12}, {'date': '2017-06-24', 'prcp': 0.36}, {'date': '2017-06-25', 'prcp': 0.02}, {'date': '2017-06-26', 'prcp': 0.06}, {'date': '2017-06-27', 'prcp': 0.01}, {'date': '2017-06-28', 'prcp': 0.0}, {'date': '2017-06-29', 'prcp': 0.0}, {'date': '2017-06-30', 'prcp': 0.01}, {'date': '2017-07-01', 'prcp': 0.08}, {'date': '2017-07-02', 'prcp': 0.15}, {'date': '2017-07-03', 'prcp': 0.15}, {'date': '2017-07-04', 'prcp': 0.08}, {'date': '2017-07-05', 'prcp': 0.0}, {'date': '2017-07-06', 'prcp': 0.0}, {'date': '2017-07-07', 'prcp': 0.18}, {'date': '2017-07-08', 'prcp': 0.0}, {'date': '2017-07-09', 'prcp': 0.11}, {'date': '2017-07-10', 'prcp': 0.02}, {'date': '2017-07-11', 'prcp': 0.02}, {'date': '2017-07-12', 'prcp': 0.28}, {'date': '2017-07-13', 'prcp': 0.32}, {'date': '2017-07-14', 'prcp': 0.2}, {'date': '2017-07-15', 'prcp': 0.05}, {'date': '2017-07-16', 'prcp': 0.1}, {'date': '2017-07-17', 'prcp': 0.21}, {'date': '2017-07-18', 'prcp': 0.05}, {'date': '2017-07-19', 'prcp': 0.05}, {'date': '2017-07-20', 'prcp': 0.06}, {'date': '2017-07-21', 'prcp': 0.03}, {'date': '2017-07-22', 'prcp': 0.2}, {'date': '2017-07-23', 'prcp': 0.2}, {'date': '2017-07-24', 'prcp': 0.61}, {'date': '2017-07-25', 'prcp': 0.11}, {'date': '2017-07-26', 'prcp': 0.12}, {'date': '2017-07-27', 'prcp': 0.01}, {'date': '2017-07-28', 'prcp': 0.09}, {'date': '2017-07-29', 'prcp': 0.23}, {'date': '2017-07-30', 'prcp': 0.0}, {'date': '2017-07-31', 'prcp': 0.0}, {'date': '2017-08-04', 'prcp': 0.0}, {'date': '2017-08-05', 'prcp': 0.06}, {'date': '2017-08-06', 'prcp': 0.0}, {'date': '2017-08-13', 'prcp': 0.0}, {'date': '2017-08-14', 'prcp': 0.0}, {'date': '2017-08-15', 'prcp': 0.32}, {'date': '2017-08-16', 'prcp': 0.12}, {'date': '2017-08-17', 'prcp': 0.01}, {'date': '2017-08-18', 'prcp': 0.06}, {'date': '2016-08-24', 'prcp': 1.45}, {'date': '2016-08-25', 'prcp': 0.11}, {'date': '2016-08-27', 'prcp': None}, {'date': '2016-08-28', 'prcp': 2.07}, {'date': '2016-08-29', 'prcp': 0.9}, {'date': '2016-08-30', 'prcp': 0.05}, {'date': '2016-08-31', 'prcp': 2.46}, {'date': '2016-09-01', 'prcp': 0.01}, {'date': '2016-09-02', 'prcp': 0.03}, {'date': '2016-09-03', 'prcp': 1.0}, {'date': '2016-09-04', 'prcp': 0.44}, {'date': '2016-09-05', 'prcp': 0.18}, {'date': '2016-09-06', 'prcp': 1.0}, {'date': '2016-09-07', 'prcp': 1.35}, {'date': '2016-09-08', 'prcp': 0.15}, {'date': '2016-09-09', 'prcp': 0.35}, {'date': '2016-09-10', 'prcp': 1.16}, {'date': '2016-09-11', 'prcp': 0.6}, {'date': '2016-09-12', 'prcp': 1.04}, {'date': '2016-09-13', 'prcp': 1.2}, {'date': '2016-09-14', 'prcp': 6.7}, {'date': '2016-09-15', 'prcp': 3.35}, {'date': '2016-09-16', 'prcp': 0.61}, {'date': '2016-09-17', 'prcp': 0.23}, {'date': '2016-09-18', 'prcp': 0.42}, {'date': '2016-09-19', 'prcp': 0.25}, {'date': '2016-09-20', 'prcp': 0.43}, {'date': '2016-09-21', 'prcp': 1.02}, {'date': '2016-09-22', 'prcp': 0.75}, {'date': '2016-09-23', 'prcp': 0.33}, {'date': '2016-09-24', 'prcp': 0.27}, {'date': '2016-09-25', 'prcp': 0.04}, {'date': '2016-09-26', 'prcp': 1.02}, {'date': '2016-09-27', 'prcp': 1.0}, {'date': '2016-09-28', 'prcp': 0.05}, {'date': '2016-09-29', 'prcp': 1.49}, {'date': '2016-09-30', 'prcp': 0.38}, {'date': '2016-10-01', 'prcp': 1.02}, {'date': '2016-10-02', 'prcp': 0.61}, {'date': '2016-10-03', 'prcp': 0.46}, {'date': '2016-10-04', 'prcp': 3.46}, {'date': '2016-10-05', 'prcp': 0.81}, {'date': '2016-10-06', 'prcp': 0.04}, {'date': '2016-10-07', 'prcp': 0.01}, {'date': '2016-10-08', 'prcp': 0.04}, {'date': '2016-10-09', 'prcp': 0.0}, {'date': '2016-10-10', 'prcp': 0.0}, {'date': '2016-10-11', 'prcp': 0.35}, {'date': '2016-10-12', 'prcp': 0.02}, {'date': '2016-10-13', 'prcp': 0.06}, {'date': '2016-10-14', 'prcp': 0.0}, {'date': '2016-10-15', 'prcp': 0.33}, {'date': '2016-10-16', 'prcp': 0.0}, {'date': '2016-10-17', 'prcp': 0.38}, {'date': '2016-10-18', 'prcp': 0.48}, {'date': '2016-10-19', 'prcp': 0.0}, {'date': '2016-10-20', 'prcp': 1.0}, {'date': '2016-10-21', 'prcp': 0.09}, {'date': '2016-10-22', 'prcp': 1.37}, {'date': '2016-10-23', 'prcp': 0.24}, {'date': '2016-10-24', 'prcp': 0.7}, {'date': '2016-10-25', 'prcp': 0.4}, {'date': '2016-10-26', 'prcp': 0.0}, {'date': '2016-10-27', 'prcp': 1.25}, {'date': '2016-10-28', 'prcp': 0.37}, {'date': '2016-10-29', 'prcp': 0.25}, {'date': '2016-10-30', 'prcp': 0.95}, {'date': '2016-10-31', 'prcp': 1.35}, {'date': '2016-11-01', 'prcp': 0.09}, {'date': '2016-11-02', 'prcp': 0.04}, {'date': '2016-11-03', 'prcp': 0.02}, {'date': '2016-11-04', 'prcp': 0.06}, {'date': '2016-11-05', 'prcp': 0.38}, {'date': '2016-11-06', 'prcp': 0.05}, {'date': '2016-11-07', 'prcp': 0.05}, {'date': '2016-11-08', 'prcp': 0.53}, {'date': '2016-11-09', 'prcp': 0.04}, {'date': '2016-11-10', 'prcp': 0.01}, {'date': '2016-11-11', 'prcp': 0.0}, {'date': '2016-11-12', 'prcp': 0.0}, {'date': '2016-11-13', 'prcp': 0.0}, {'date': '2016-11-14', 'prcp': 0.02}, {'date': '2016-11-15', 'prcp': 0.05}, {'date': '2016-11-16', 'prcp': 0.91}, {'date': '2016-11-17', 'prcp': 0.02}, {'date': '2016-11-20', 'prcp': None}, {'date': '2016-11-21', 'prcp': 2.87}, {'date': '2016-11-22', 'prcp': 2.11}, {'date': '2016-11-23', 'prcp': 0.22}, {'date': '2016-11-24', 'prcp': 0.72}, {'date': '2016-11-25', 'prcp': 1.03}, {'date': '2016-11-26', 'prcp': 0.3}, {'date': '2016-11-27', 'prcp': 0.29}, {'date': '2016-11-28', 'prcp': 0.69}, {'date': '2016-11-29', 'prcp': 0.2}, {'date': '2016-11-30', 'prcp': 0.79}, {'date': '2016-12-01', 'prcp': 0.72}, {'date': '2016-12-02', 'prcp': 1.27}, {'date': '2016-12-03', 'prcp': 1.62}, {'date': '2016-12-04', 'prcp': 0.31}, {'date': '2016-12-05', 'prcp': 1.6}, {'date': '2016-12-06', 'prcp': 0.0}, {'date': '2016-12-07', 'prcp': 0.02}, {'date': '2016-12-08', 'prcp': 0.03}, {'date': '2016-12-09', 'prcp': 0.42}, {'date': '2016-12-10', 'prcp': 0.04}, {'date': '2016-12-11', 'prcp': 0.13}, {'date': '2016-12-12', 'prcp': 0.01}, {'date': '2016-12-13', 'prcp': 0.09}, {'date': '2016-12-14', 'prcp': 0.33}, {'date': '2016-12-15', 'prcp': 0.03}, {'date': '2016-12-16', 'prcp': 0.0}, {'date': '2016-12-18', 'prcp': None}, {'date': '2016-12-19', 'prcp': 0.15}, {'date': '2016-12-20', 'prcp': 0.0}, {'date': '2016-12-21', 'prcp': 0.55}, {'date': '2016-12-22', 'prcp': 1.24}, {'date': '2016-12-23', 'prcp': 0.83}, {'date': '2016-12-24', 'prcp': 1.08}, {'date': '2016-12-25', 'prcp': 0.38}, {'date': '2016-12-26', 'prcp': 1.48}, {'date': '2016-12-27', 'prcp': 0.14}, {'date': '2016-12-28', 'prcp': 0.14}, {'date': '2016-12-29', 'prcp': 1.03}, {'date': '2016-12-30', 'prcp': 2.37}, {'date': '2016-12-31', 'prcp': 0.9}, {'date': '2017-01-01', 'prcp': 0.03}, {'date': '2017-01-02', 'prcp': 0.0}, {'date': '2017-01-03', 'prcp': 0.0}, {'date': '2017-01-04', 'prcp': 0.0}, {'date': '2017-01-05', 'prcp': 0.47}, {'date': '2017-01-06', 'prcp': 0.1}, {'date': '2017-01-07', 'prcp': 0.0}, {'date': '2017-01-08', 'prcp': 0.03}, {'date': '2017-01-09', 'prcp': 0.0}, {'date': '2017-01-10', 'prcp': 0.0}, {'date': '2017-01-11', 'prcp': 0.0}, {'date': '2017-01-12', 'prcp': 0.0}, {'date': '2017-01-13', 'prcp': 0.0}, {'date': '2017-01-14', 'prcp': 0.0}, {'date': '2017-01-15', 'prcp': 0.01}, {'date': '2017-01-16', 'prcp': 0.0}, {'date': '2017-01-17', 'prcp': 0.0}, {'date': '2017-01-18', 'prcp': 0.07}, {'date': '2017-01-19', 'prcp': 0.0}, {'date': '2017-01-20', 'prcp': 0.0}, {'date': '2017-01-21', 'prcp': 0.08}, {'date': '2017-01-22', 'prcp': 0.72}, {'date': '2017-01-23', 'prcp': 0.85}, {'date': '2017-01-24', 'prcp': 1.85}, {'date': '2017-01-25', 'prcp': 2.64}, {'date': '2017-01-26', 'prcp': 0.1}, {'date': '2017-01-27', 'prcp': 0.03}, {'date': '2017-01-28', 'prcp': 0.0}, {'date': '2017-01-29', 'prcp': 0.55}, {'date': '2017-01-30', 'prcp': 0.0}, {'date': '2017-01-31', 'prcp': 0.0}, {'date': '2017-02-01', 'prcp': 0.0}, {'date': '2017-02-02', 'prcp': 0.0}, {'date': '2017-02-04', 'prcp': None}, {'date': '2017-02-05', 'prcp': 0.0}, {'date': '2017-02-06', 'prcp': 0.0}, {'date': '2017-02-07', 'prcp': 1.79}, {'date': '2017-02-08', 'prcp': 0.0}, {'date': '2017-02-09', 'prcp': 0.0}, {'date': '2017-02-10', 'prcp': 0.0}, {'date': '2017-02-11', 'prcp': 0.73}, {'date': '2017-02-12', 'prcp': 1.83}, {'date': '2017-02-13', 'prcp': 0.0}, {'date': '2017-02-14', 'prcp': 0.01}, {'date': '2017-02-15', 'prcp': 0.07}, {'date': '2017-02-16', 'prcp': 0.13}, {'date': '2017-02-18', 'prcp': None}, {'date': '2017-02-19', 'prcp': 0.1}, {'date': '2017-02-20', 'prcp': 0.0}, {'date': '2017-02-21', 'prcp': 0.07}, {'date': '2017-02-22', 'prcp': 0.32}, {'date': '2017-02-23', 'prcp': 0.0}, {'date': '2017-02-24', 'prcp': 0.0}, {'date': '2017-02-25', 'prcp': 0.12}, {'date': '2017-02-26', 'prcp': 0.0}, {'date': '2017-02-27', 'prcp': 0.0}, {'date': '2017-02-28', 'prcp': 0.58}, {'date': '2017-03-01', 'prcp': 2.0}, {'date': '2017-03-02', 'prcp': 0.58}, {'date': '2017-03-03', 'prcp': 0.56}, {'date': '2017-03-04', 'prcp': 0.0}, {'date': '2017-03-05', 'prcp': 0.35}, {'date': '2017-03-06', 'prcp': 0.0}, {'date': '2017-03-07', 'prcp': 0.0}, {'date': '2017-03-08', 'prcp': 0.0}, {'date': '2017-03-09', 'prcp': 0.01}, {'date': '2017-03-10', 'prcp': 0.0}, {'date': '2017-03-11', 'prcp': 0.0}, {'date': '2017-03-13', 'prcp': None}, {'date': '2017-03-14', 'prcp': 0.0}, {'date': '2017-03-15', 'prcp': 0.0}, {'date': '2017-03-16', 'prcp': 0.0}, {'date': '2017-03-18', 'prcp': None}, {'date': '2017-03-19', 'prcp': 0.0}, {'date': '2017-03-20', 'prcp': 0.0}, {'date': '2017-03-21', 'prcp': 0.0}, {'date': '2017-03-22', 'prcp': 0.0}, {'date': '2017-03-23', 'prcp': 0.03}, {'date': '2017-03-24', 'prcp': 0.17}, {'date': '2017-03-25', 'prcp': 0.48}, {'date': '2017-03-26', 'prcp': 0.0}, {'date': '2017-03-27', 'prcp': 0.0}, {'date': '2017-03-28', 'prcp': 0.68}, {'date': '2017-03-29', 'prcp': 0.07}, {'date': '2017-03-31', 'prcp': None}, {'date': '2017-04-01', 'prcp': 0.2}, {'date': '2017-04-02', 'prcp': 0.0}, {'date': '2017-04-03', 'prcp': 0.23}, {'date': '2017-04-04', 'prcp': 0.02}, {'date': '2017-04-05', 'prcp': 0.45}, {'date': '2017-04-06', 'prcp': 0.0}, {'date': '2017-04-08', 'prcp': None}, {'date': '2017-04-09', 'prcp': 0.0}, {'date': '2017-04-10', 'prcp': 0.0}, {'date': '2017-04-11', 'prcp': 0.25}, {'date': '2017-04-12', 'prcp': 0.65}, {'date': '2017-04-13', 'prcp': 0.23}, {'date': '2017-04-14', 'prcp': 2.82}, {'date': '2017-04-15', 'prcp': 0.9}, {'date': '2017-04-16', 'prcp': 0.11}, {'date': '2017-04-17', 'prcp': 1.3}, {'date': '2017-04-18', 'prcp': 0.98}, {'date': '2017-04-19', 'prcp': 0.14}, {'date': '2017-04-20', 'prcp': 0.0}, {'date': '2017-04-21', 'prcp': 1.84}, {'date': '2017-04-22', 'prcp': 1.35}, {'date': '2017-04-23', 'prcp': 0.35}, {'date': '2017-04-24', 'prcp': 0.05}, {'date': '2017-04-25', 'prcp': 0.0}, {'date': '2017-04-26', 'prcp': 0.22}, {'date': '2017-04-27', 'prcp': 0.11}, {'date': '2017-04-28', 'prcp': 0.79}, {'date': '2017-04-29', 'prcp': 0.0}, {'date': '2017-04-30', 'prcp': 0.8}, {'date': '2017-05-01', 'prcp': 0.25}, {'date': '2017-05-02', 'prcp': 0.0}, {'date': '2017-05-04', 'prcp': None}, {'date': '2017-05-05', 'prcp': 0.1}, {'date': '2017-05-06', 'prcp': 0.0}, {'date': '2017-05-07', 'prcp': 0.03}, {'date': '2017-05-08', 'prcp': 1.11}, {'date': '2017-05-09', 'prcp': 0.23}, {'date': '2017-05-10', 'prcp': 0.55}, {'date': '2017-05-11', 'prcp': 0.44}, {'date': '2017-05-12', 'prcp': 0.1}, {'date': '2017-05-13', 'prcp': 0.1}, {'date': '2017-05-14', 'prcp': 1.0}, {'date': '2017-05-15', 'prcp': 0.6}, {'date': '2017-05-16', 'prcp': 0.3}, {'date': '2017-05-17', 'prcp': 0.06}, {'date': '2017-05-18', 'prcp': 0.0}, {'date': '2017-05-20', 'prcp': None}, {'date': '2017-05-21', 'prcp': 0.0}, {'date': '2017-05-22', 'prcp': 0.3}, {'date': '2017-05-23', 'prcp': 0.44}, {'date': '2017-05-24', 'prcp': 2.17}, {'date': '2017-05-25', 'prcp': 0.88}, {'date': '2017-05-26', 'prcp': 0.0}, {'date': '2017-05-27', 'prcp': 0.5}, {'date': '2017-05-28', 'prcp': 0.0}, {'date': '2017-05-30', 'prcp': None}, {'date': '2017-06-01', 'prcp': 0.01}, {'date': '2017-06-03', 'prcp': None}, {'date': '2017-06-04', 'prcp': 0.82}, {'date': '2017-06-05', 'prcp': 0.01}, {'date': '2017-06-06', 'prcp': 0.0}, {'date': '2017-06-07', 'prcp': 0.01}, {'date': '2017-06-08', 'prcp': 0.0}, {'date': '2017-06-10', 'prcp': None}, {'date': '2017-06-11', 'prcp': 0.7}, {'date': '2017-06-12', 'prcp': 0.81}, {'date': '2017-06-13', 'prcp': 0.65}, {'date': '2017-06-14', 'prcp': 0.81}, {'date': '2017-06-15', 'prcp': 1.69}, {'date': '2017-06-16', 'prcp': 0.1}, {'date': '2017-06-17', 'prcp': 0.1}, {'date': '2017-06-18', 'prcp': 0.7}, {'date': '2017-06-19', 'prcp': 0.4}, {'date': '2017-06-20', 'prcp': 0.31}, {'date': '2017-06-21', 'prcp': 0.3}, {'date': '2017-06-22', 'prcp': 0.28}, {'date': '2017-06-23', 'prcp': 0.5}, {'date': '2017-06-24', 'prcp': 0.22}, {'date': '2017-06-25', 'prcp': 0.5}, {'date': '2017-06-26', 'prcp': 0.02}, {'date': '2017-06-27', 'prcp': 0.1}, {'date': '2017-06-28', 'prcp': 0.02}, {'date': '2017-06-29', 'prcp': 0.04}, {'date': '2017-06-30', 'prcp': 0.2}, {'date': '2017-07-01', 'prcp': 0.1}, {'date': '2017-07-02', 'prcp': 0.5}, {'date': '2017-07-03', 'prcp': 0.4}, {'date': '2017-07-04', 'prcp': 0.0}, {'date': '2017-07-05', 'prcp': 0.0}, {'date': '2017-07-06', 'prcp': 0.02}, {'date': '2017-07-07', 'prcp': 0.3}, {'date': '2017-07-08', 'prcp': 0.02}, {'date': '2017-07-09', 'prcp': 0.0}, {'date': '2017-07-10', 'prcp': 0.02}, {'date': '2017-07-11', 'prcp': 0.0}, {'date': '2017-07-12', 'prcp': 0.05}, {'date': '2017-07-13', 'prcp': 0.68}, {'date': '2017-07-14', 'prcp': 0.68}, {'date': '2017-07-15', 'prcp': 0.1}, {'date': '2017-07-16', 'prcp': 0.5}, {'date': '2017-07-17', 'prcp': 0.39}, {'date': '2017-07-18', 'prcp': 2.4}, {'date': '2017-07-19', 'prcp': 0.27}, {'date': '2017-07-20', 'prcp': 0.7}, {'date': '2017-07-21', 'prcp': 0.1}, {'date': '2017-07-22', 'prcp': 4.0}, {'date': '2017-07-23', 'prcp': 0.8}, {'date': '2017-07-24', 'prcp': 0.84}, {'date': '2017-07-25', 'prcp': 0.3}, {'date': '2017-07-26', 'prcp': 0.3}, {'date': '2017-07-27', 'prcp': 0.0}, {'date': '2017-07-28', 'prcp': 0.4}, {'date': '2017-07-29', 'prcp': 0.3}, {'date': '2017-07-30', 'prcp': 0.3}, {'date': '2017-07-31', 'prcp': 0.0}, {'date': '2017-08-01', 'prcp': None}, {'date': '2017-08-02', 'prcp': 0.25}, {'date': '2017-08-03', 'prcp': 0.06}, {'date': '2017-08-05', 'prcp': None}, {'date': '2017-08-06', 'prcp': None}, {'date': '2017-08-07', 'prcp': 0.05}, {'date': '2017-08-08', 'prcp': 0.34}, {'date': '2017-08-09', 'prcp': 0.15}, {'date': '2017-08-10', 'prcp': 0.07}, {'date': '2017-08-11', 'prcp': None}, {'date': '2017-08-12', 'prcp': 0.14}, {'date': '2017-08-13', 'prcp': None}, {'date': '2017-08-14', 'prcp': 0.22}, {'date': '2017-08-15', 'prcp': 0.42}, {'date': '2017-08-16', 'prcp': 0.42}, {'date': '2017-08-17', 'prcp': 0.13}, {'date': '2017-08-18', 'prcp': None}, {'date': '2017-08-19', 'prcp': 0.09}, {'date': '2017-08-20', 'prcp': None}, {'date': '2017-08-21', 'prcp': 0.56}, {'date': '2017-08-22', 'prcp': 0.5}]\n"
     ]
    }
   ],
   "source": [
    "# convert rows in prcp into a list of dictionaries for app.py\n",
    "\n",
    "# I get an error when I use __dict__, using ._asdict() instead\n",
    "prcp_dict_list = []    \n",
    "for row in prcp:\n",
    "    i = (row._asdict())\n",
    "    prcp_dict_list.append(i)\n",
    "    \n",
    "print(prcp_dict_list)   "
   ]
  },
  {
   "cell_type": "markdown",
   "metadata": {},
   "source": [
    "![precipitation](Images/precipitation.png)"
   ]
  },
  {
   "cell_type": "code",
   "execution_count": 31,
   "metadata": {},
   "outputs": [
    {
     "data": {
      "text/html": [
       "<div>\n",
       "<style scoped>\n",
       "    .dataframe tbody tr th:only-of-type {\n",
       "        vertical-align: middle;\n",
       "    }\n",
       "\n",
       "    .dataframe tbody tr th {\n",
       "        vertical-align: top;\n",
       "    }\n",
       "\n",
       "    .dataframe thead th {\n",
       "        text-align: right;\n",
       "    }\n",
       "</style>\n",
       "<table border=\"1\" class=\"dataframe\">\n",
       "  <thead>\n",
       "    <tr style=\"text-align: right;\">\n",
       "      <th></th>\n",
       "      <th>prcp</th>\n",
       "    </tr>\n",
       "  </thead>\n",
       "  <tbody>\n",
       "    <tr>\n",
       "      <td>count</td>\n",
       "      <td>2011.000000</td>\n",
       "    </tr>\n",
       "    <tr>\n",
       "      <td>mean</td>\n",
       "      <td>0.176549</td>\n",
       "    </tr>\n",
       "    <tr>\n",
       "      <td>std</td>\n",
       "      <td>0.460667</td>\n",
       "    </tr>\n",
       "    <tr>\n",
       "      <td>min</td>\n",
       "      <td>0.000000</td>\n",
       "    </tr>\n",
       "    <tr>\n",
       "      <td>25%</td>\n",
       "      <td>0.000000</td>\n",
       "    </tr>\n",
       "    <tr>\n",
       "      <td>50%</td>\n",
       "      <td>0.020000</td>\n",
       "    </tr>\n",
       "    <tr>\n",
       "      <td>75%</td>\n",
       "      <td>0.130000</td>\n",
       "    </tr>\n",
       "    <tr>\n",
       "      <td>max</td>\n",
       "      <td>6.700000</td>\n",
       "    </tr>\n",
       "  </tbody>\n",
       "</table>\n",
       "</div>"
      ],
      "text/plain": [
       "              prcp\n",
       "count  2011.000000\n",
       "mean      0.176549\n",
       "std       0.460667\n",
       "min       0.000000\n",
       "25%       0.000000\n",
       "50%       0.020000\n",
       "75%       0.130000\n",
       "max       6.700000"
      ]
     },
     "execution_count": 31,
     "metadata": {},
     "output_type": "execute_result"
    }
   ],
   "source": [
    "# Use Pandas to calcualte the summary statistics for the precipitation data\n",
    "prcp_df.describe()"
   ]
  },
  {
   "cell_type": "markdown",
   "metadata": {},
   "source": [
    "![describe](Images/describe.png)"
   ]
  },
  {
   "cell_type": "markdown",
   "metadata": {},
   "source": [
    "## Station Analysis"
   ]
  },
  {
   "cell_type": "code",
   "execution_count": 32,
   "metadata": {},
   "outputs": [
    {
     "name": "stdout",
     "output_type": "stream",
     "text": [
      "Total number of stations is 9\n"
     ]
    }
   ],
   "source": [
    "# Design a query to show how many stations are available in this dataset?\n",
    "\n",
    "num_of_stations = session.query(Measurement.station).group_by(Measurement.station).count()\n",
    "print(f'Total number of stations is {num_of_stations}')"
   ]
  },
  {
   "cell_type": "code",
   "execution_count": 33,
   "metadata": {},
   "outputs": [
    {
     "name": "stdout",
     "output_type": "stream",
     "text": [
      "Here is a list of stations and observation counts in descending order\n",
      "('USC00519281', 2772)\n",
      "('USC00519397', 2724)\n",
      "('USC00513117', 2709)\n",
      "('USC00519523', 2669)\n",
      "('USC00516128', 2612)\n",
      "('USC00514830', 2202)\n",
      "('USC00511918', 1979)\n",
      "('USC00517948', 1372)\n",
      "('USC00518838', 511)\n"
     ]
    }
   ],
   "source": [
    "# What are the most active stations? (i.e. what stations have the most rows)?\n",
    "# List the stations and the counts in descending order.\n",
    "\n",
    "# Option 1\n",
    "# this is a list of stations and observations counts in descending order,  results is a list of tuples\n",
    "station_count = session.query(Measurement.station, func.count(Measurement.station)).\\\n",
    "                                                   group_by(Measurement.station).\\\n",
    "                                                   order_by(func.count(Measurement.station).desc()).\\\n",
    "                                                   all()\n",
    "\n",
    "# Option2\n",
    "# This import allows us to order by descending order on an aggregate value that's been labeled 'count_stations'\n",
    "# https://docs.sqlalchemy.org/en/13/core/sqlelement.html#sqlalchemy.sql.expression.desc\n",
    "from sqlalchemy import desc\n",
    "\n",
    "station_count = session.query(Measurement.station, func.count(Measurement.station).label('count_stations')).\\\n",
    "                                                   group_by(Measurement.station).\\\n",
    "                                                   order_by(desc('count_stations')).\\\n",
    "                                                   all()\n",
    "\n",
    "#print a list of stations and observation counts in descending order:\n",
    "print('Here is a list of stations and observation counts in descending order')\n",
    "for station in station_count:\n",
    "    print(station)"
   ]
  },
  {
   "cell_type": "code",
   "execution_count": 34,
   "metadata": {},
   "outputs": [
    {
     "name": "stdout",
     "output_type": "stream",
     "text": [
      "The top station is USC00519281 and it has 2772 rows\n"
     ]
    },
    {
     "data": {
      "text/plain": [
       "[('USC00519281', 54.0, 71.66378066378067, 85.0)]"
      ]
     },
     "execution_count": 34,
     "metadata": {},
     "output_type": "execute_result"
    }
   ],
   "source": [
    "# Using the station id from the previous query, calculate the lowest temperature recorded, \n",
    "# highest temperature recorded, and average temperature of the most active station?\n",
    "top_station = session.query(Measurement.station, func.count(Measurement.station).label('count_stations')).\\\n",
    "                                                   group_by(Measurement.station).\\\n",
    "                                                   order_by(desc('count_stations')).\\\n",
    "                                                   first()\n",
    "\n",
    "print(f'The top station is {top_station[0]} and it has {top_station[1]} rows')\n",
    "\n",
    "# Using the station id from the previous query, calculate the lowest temperature recorded, \n",
    "# highest temperature recorded, and average temperature of the most active station?\n",
    "session.query(Measurement.station, func.min(Measurement.tobs), func.avg(Measurement.tobs), func.max(Measurement.tobs)).\\\n",
    "              group_by(Measurement.station).\\\n",
    "              filter(Measurement.station == top_station[0]).all()"
   ]
  },
  {
   "cell_type": "code",
   "execution_count": 35,
   "metadata": {},
   "outputs": [
    {
     "name": "stdout",
     "output_type": "stream",
     "text": [
      "[(77.0,), (80.0,), (80.0,), (75.0,), (73.0,), (78.0,), (77.0,), (78.0,), (80.0,), (80.0,), (78.0,), (78.0,), (78.0,), (73.0,), (74.0,), (80.0,), (79.0,), (77.0,), (80.0,), (76.0,), (79.0,), (75.0,), (79.0,), (78.0,), (79.0,), (78.0,), (78.0,), (76.0,), (74.0,), (77.0,), (78.0,), (79.0,), (79.0,), (77.0,), (80.0,), (78.0,), (78.0,), (78.0,), (77.0,), (79.0,), (79.0,), (79.0,), (79.0,), (75.0,), (76.0,), (73.0,), (72.0,), (71.0,), (77.0,), (79.0,), (78.0,), (79.0,), (77.0,), (79.0,), (77.0,), (78.0,), (78.0,), (78.0,), (78.0,), (77.0,), (74.0,), (75.0,), (76.0,), (73.0,), (76.0,), (74.0,), (77.0,), (76.0,), (76.0,), (74.0,), (75.0,), (75.0,), (75.0,), (75.0,), (71.0,), (63.0,), (70.0,), (68.0,), (67.0,), (77.0,), (74.0,), (77.0,), (76.0,), (76.0,), (75.0,), (76.0,), (75.0,), (73.0,), (75.0,), (73.0,), (75.0,), (74.0,), (75.0,), (74.0,), (75.0,), (73.0,), (75.0,), (73.0,), (73.0,), (74.0,), (70.0,), (72.0,), (70.0,), (67.0,), (67.0,), (69.0,), (70.0,), (68.0,), (69.0,), (69.0,), (66.0,), (65.0,), (68.0,), (62.0,), (75.0,), (70.0,), (69.0,), (76.0,), (76.0,), (74.0,), (73.0,), (71.0,), (74.0,), (74.0,), (72.0,), (71.0,), (72.0,), (74.0,), (69.0,), (67.0,), (72.0,), (70.0,), (64.0,), (63.0,), (63.0,), (62.0,), (70.0,), (70.0,), (62.0,), (62.0,), (63.0,), (65.0,), (69.0,), (77.0,), (70.0,), (74.0,), (69.0,), (72.0,), (71.0,), (69.0,), (71.0,), (71.0,), (72.0,), (72.0,), (69.0,), (70.0,), (66.0,), (65.0,), (69.0,), (68.0,), (68.0,), (68.0,), (59.0,), (60.0,), (70.0,), (73.0,), (75.0,), (64.0,), (59.0,), (59.0,), (62.0,), (68.0,), (70.0,), (73.0,), (79.0,), (75.0,), (65.0,), (70.0,), (74.0,), (70.0,), (70.0,), (71.0,), (71.0,), (71.0,), (69.0,), (61.0,), (67.0,), (65.0,), (72.0,), (71.0,), (73.0,), (72.0,), (77.0,), (73.0,), (67.0,), (62.0,), (64.0,), (67.0,), (66.0,), (81.0,), (69.0,), (66.0,), (67.0,), (69.0,), (66.0,), (68.0,), (65.0,), (74.0,), (69.0,), (72.0,), (73.0,), (72.0,), (71.0,), (76.0,), (77.0,), (76.0,), (74.0,), (68.0,), (73.0,), (71.0,), (74.0,), (75.0,), (70.0,), (67.0,), (71.0,), (67.0,), (74.0,), (77.0,), (78.0,), (67.0,), (70.0,), (69.0,), (69.0,), (74.0,), (78.0,), (71.0,), (67.0,), (68.0,), (67.0,), (76.0,), (69.0,), (72.0,), (76.0,), (68.0,), (72.0,), (74.0,), (70.0,), (67.0,), (72.0,), (60.0,), (65.0,), (75.0,), (70.0,), (75.0,), (70.0,), (79.0,), (75.0,), (70.0,), (67.0,), (74.0,), (70.0,), (75.0,), (76.0,), (77.0,), (74.0,), (74.0,), (74.0,), (69.0,), (68.0,), (76.0,), (74.0,), (71.0,), (71.0,), (74.0,), (74.0,), (74.0,), (74.0,), (80.0,), (74.0,), (72.0,), (75.0,), (80.0,), (76.0,), (76.0,), (77.0,), (75.0,), (75.0,), (75.0,), (75.0,), (72.0,), (74.0,), (74.0,), (74.0,), (76.0,), (74.0,), (75.0,), (73.0,), (79.0,), (75.0,), (72.0,), (72.0,), (74.0,), (72.0,), (72.0,), (77.0,), (71.0,), (73.0,), (76.0,), (77.0,), (76.0,), (76.0,), (79.0,), (81.0,), (76.0,), (78.0,), (77.0,), (74.0,), (75.0,), (78.0,), (78.0,), (69.0,), (72.0,), (74.0,), (74.0,), (76.0,), (80.0,), (80.0,), (76.0,), (76.0,), (76.0,), (77.0,), (77.0,), (77.0,), (82.0,), (75.0,), (77.0,), (75.0,), (76.0,), (81.0,), (82.0,), (81.0,), (76.0,), (77.0,), (82.0,), (83.0,), (77.0,), (77.0,), (77.0,), (76.0,), (76.0,), (79.0,)]\n"
     ]
    }
   ],
   "source": [
    "#Design a query to retrieve the last 12 months of temperature observation data (tobs).\n",
    "#Filter by the station with the highest number of observations.\n",
    "\n",
    "top_station = top_station[0]\n",
    "\n",
    "top_station_tobs = session.query(Measurement.tobs).filter(Measurement.station == top_station).\\\n",
    "                                                                     filter(Measurement.date > min_date).\\\n",
    "                                                                     filter(Measurement.date < max_date).all()  \n",
    "print(top_station_tobs)"
   ]
  },
  {
   "cell_type": "code",
   "execution_count": 36,
   "metadata": {},
   "outputs": [
    {
     "name": "stdout",
     "output_type": "stream",
     "text": [
      "[77.0, 80.0, 80.0, 75.0, 73.0, 78.0, 77.0, 78.0, 80.0, 80.0, 78.0, 78.0, 78.0, 73.0, 74.0, 80.0, 79.0, 77.0, 80.0, 76.0, 79.0, 75.0, 79.0, 78.0, 79.0, 78.0, 78.0, 76.0, 74.0, 77.0, 78.0, 79.0, 79.0, 77.0, 80.0, 78.0, 78.0, 78.0, 77.0, 79.0, 79.0, 79.0, 79.0, 75.0, 76.0, 73.0, 72.0, 71.0, 77.0, 79.0, 78.0, 79.0, 77.0, 79.0, 77.0, 78.0, 78.0, 78.0, 78.0, 77.0, 74.0, 75.0, 76.0, 73.0, 76.0, 74.0, 77.0, 76.0, 76.0, 74.0, 75.0, 75.0, 75.0, 75.0, 71.0, 63.0, 70.0, 68.0, 67.0, 77.0, 74.0, 77.0, 76.0, 76.0, 75.0, 76.0, 75.0, 73.0, 75.0, 73.0, 75.0, 74.0, 75.0, 74.0, 75.0, 73.0, 75.0, 73.0, 73.0, 74.0, 70.0, 72.0, 70.0, 67.0, 67.0, 69.0, 70.0, 68.0, 69.0, 69.0, 66.0, 65.0, 68.0, 62.0, 75.0, 70.0, 69.0, 76.0, 76.0, 74.0, 73.0, 71.0, 74.0, 74.0, 72.0, 71.0, 72.0, 74.0, 69.0, 67.0, 72.0, 70.0, 64.0, 63.0, 63.0, 62.0, 70.0, 70.0, 62.0, 62.0, 63.0, 65.0, 69.0, 77.0, 70.0, 74.0, 69.0, 72.0, 71.0, 69.0, 71.0, 71.0, 72.0, 72.0, 69.0, 70.0, 66.0, 65.0, 69.0, 68.0, 68.0, 68.0, 59.0, 60.0, 70.0, 73.0, 75.0, 64.0, 59.0, 59.0, 62.0, 68.0, 70.0, 73.0, 79.0, 75.0, 65.0, 70.0, 74.0, 70.0, 70.0, 71.0, 71.0, 71.0, 69.0, 61.0, 67.0, 65.0, 72.0, 71.0, 73.0, 72.0, 77.0, 73.0, 67.0, 62.0, 64.0, 67.0, 66.0, 81.0, 69.0, 66.0, 67.0, 69.0, 66.0, 68.0, 65.0, 74.0, 69.0, 72.0, 73.0, 72.0, 71.0, 76.0, 77.0, 76.0, 74.0, 68.0, 73.0, 71.0, 74.0, 75.0, 70.0, 67.0, 71.0, 67.0, 74.0, 77.0, 78.0, 67.0, 70.0, 69.0, 69.0, 74.0, 78.0, 71.0, 67.0, 68.0, 67.0, 76.0, 69.0, 72.0, 76.0, 68.0, 72.0, 74.0, 70.0, 67.0, 72.0, 60.0, 65.0, 75.0, 70.0, 75.0, 70.0, 79.0, 75.0, 70.0, 67.0, 74.0, 70.0, 75.0, 76.0, 77.0, 74.0, 74.0, 74.0, 69.0, 68.0, 76.0, 74.0, 71.0, 71.0, 74.0, 74.0, 74.0, 74.0, 80.0, 74.0, 72.0, 75.0, 80.0, 76.0, 76.0, 77.0, 75.0, 75.0, 75.0, 75.0, 72.0, 74.0, 74.0, 74.0, 76.0, 74.0, 75.0, 73.0, 79.0, 75.0, 72.0, 72.0, 74.0, 72.0, 72.0, 77.0, 71.0, 73.0, 76.0, 77.0, 76.0, 76.0, 79.0, 81.0, 76.0, 78.0, 77.0, 74.0, 75.0, 78.0, 78.0, 69.0, 72.0, 74.0, 74.0, 76.0, 80.0, 80.0, 76.0, 76.0, 76.0, 77.0, 77.0, 77.0, 82.0, 75.0, 77.0, 75.0, 76.0, 81.0, 82.0, 81.0, 76.0, 77.0, 82.0, 83.0, 77.0, 77.0, 77.0, 76.0, 76.0, 79.0]\n",
      "[77.0, 80.0, 80.0, 75.0, 73.0, 78.0, 77.0, 78.0, 80.0, 80.0, 78.0, 78.0, 78.0, 73.0, 74.0, 80.0, 79.0, 77.0, 80.0, 76.0, 79.0, 75.0, 79.0, 78.0, 79.0, 78.0, 78.0, 76.0, 74.0, 77.0, 78.0, 79.0, 79.0, 77.0, 80.0, 78.0, 78.0, 78.0, 77.0, 79.0, 79.0, 79.0, 79.0, 75.0, 76.0, 73.0, 72.0, 71.0, 77.0, 79.0, 78.0, 79.0, 77.0, 79.0, 77.0, 78.0, 78.0, 78.0, 78.0, 77.0, 74.0, 75.0, 76.0, 73.0, 76.0, 74.0, 77.0, 76.0, 76.0, 74.0, 75.0, 75.0, 75.0, 75.0, 71.0, 63.0, 70.0, 68.0, 67.0, 77.0, 74.0, 77.0, 76.0, 76.0, 75.0, 76.0, 75.0, 73.0, 75.0, 73.0, 75.0, 74.0, 75.0, 74.0, 75.0, 73.0, 75.0, 73.0, 73.0, 74.0, 70.0, 72.0, 70.0, 67.0, 67.0, 69.0, 70.0, 68.0, 69.0, 69.0, 66.0, 65.0, 68.0, 62.0, 75.0, 70.0, 69.0, 76.0, 76.0, 74.0, 73.0, 71.0, 74.0, 74.0, 72.0, 71.0, 72.0, 74.0, 69.0, 67.0, 72.0, 70.0, 64.0, 63.0, 63.0, 62.0, 70.0, 70.0, 62.0, 62.0, 63.0, 65.0, 69.0, 77.0, 70.0, 74.0, 69.0, 72.0, 71.0, 69.0, 71.0, 71.0, 72.0, 72.0, 69.0, 70.0, 66.0, 65.0, 69.0, 68.0, 68.0, 68.0, 59.0, 60.0, 70.0, 73.0, 75.0, 64.0, 59.0, 59.0, 62.0, 68.0, 70.0, 73.0, 79.0, 75.0, 65.0, 70.0, 74.0, 70.0, 70.0, 71.0, 71.0, 71.0, 69.0, 61.0, 67.0, 65.0, 72.0, 71.0, 73.0, 72.0, 77.0, 73.0, 67.0, 62.0, 64.0, 67.0, 66.0, 81.0, 69.0, 66.0, 67.0, 69.0, 66.0, 68.0, 65.0, 74.0, 69.0, 72.0, 73.0, 72.0, 71.0, 76.0, 77.0, 76.0, 74.0, 68.0, 73.0, 71.0, 74.0, 75.0, 70.0, 67.0, 71.0, 67.0, 74.0, 77.0, 78.0, 67.0, 70.0, 69.0, 69.0, 74.0, 78.0, 71.0, 67.0, 68.0, 67.0, 76.0, 69.0, 72.0, 76.0, 68.0, 72.0, 74.0, 70.0, 67.0, 72.0, 60.0, 65.0, 75.0, 70.0, 75.0, 70.0, 79.0, 75.0, 70.0, 67.0, 74.0, 70.0, 75.0, 76.0, 77.0, 74.0, 74.0, 74.0, 69.0, 68.0, 76.0, 74.0, 71.0, 71.0, 74.0, 74.0, 74.0, 74.0, 80.0, 74.0, 72.0, 75.0, 80.0, 76.0, 76.0, 77.0, 75.0, 75.0, 75.0, 75.0, 72.0, 74.0, 74.0, 74.0, 76.0, 74.0, 75.0, 73.0, 79.0, 75.0, 72.0, 72.0, 74.0, 72.0, 72.0, 77.0, 71.0, 73.0, 76.0, 77.0, 76.0, 76.0, 79.0, 81.0, 76.0, 78.0, 77.0, 74.0, 75.0, 78.0, 78.0, 69.0, 72.0, 74.0, 74.0, 76.0, 80.0, 80.0, 76.0, 76.0, 76.0, 77.0, 77.0, 77.0, 82.0, 75.0, 77.0, 75.0, 76.0, 81.0, 82.0, 81.0, 76.0, 77.0, 82.0, 83.0, 77.0, 77.0, 77.0, 76.0, 76.0, 79.0]\n"
     ]
    }
   ],
   "source": [
    "# get tob values out of a list-of-tuples and into a list-of-values\n",
    "\n",
    "# option 1 - use np.ravel\n",
    "top_station_tobs_list = list(np.ravel(top_station_tobs))\n",
    "print(top_station_tobs_list)\n",
    "\n",
    "# option 2 - use list comprehension to get the first value of tuples for precipitation\n",
    "top_station_tobs_list =[precipitation[0] for precipitation in top_station_tobs]\n",
    "print(top_station_tobs_list)"
   ]
  },
  {
   "cell_type": "code",
   "execution_count": 37,
   "metadata": {},
   "outputs": [
    {
     "data": {
      "image/png": "[encoded data removed]",
      "text/plain": [
       "<Figure size 432x288 with 1 Axes>"
      ]
     },
     "metadata": {},
     "output_type": "display_data"
    }
   ],
   "source": [
    "#Plot the results as a histogram with 12 bins\n",
    "plt.hist(top_station_tobs_list, bins=12)\n",
    "plt.legend(labels='tobs')\n",
    "plt.tight_layout()"
   ]
  },
  {
   "cell_type": "markdown",
   "metadata": {},
   "source": [
    "## Temp (tmin, tavg, tmax) for a given start date"
   ]
  },
  {
   "cell_type": "code",
   "execution_count": 38,
   "metadata": {},
   "outputs": [
    {
     "name": "stdout",
     "output_type": "stream",
     "text": [
      "[(53.0, 73.43127438710152, 87.0)]\n"
     ]
    }
   ],
   "source": [
    "# This function called `calc_temps` will accept start date and end date in the format '%Y-%m-%d' \n",
    "# and return the minimum, average, and maximum temperatures for that range of dates\n",
    "def calc_temps_start_only(start_date):\n",
    "    \"\"\"TMIN, TAVG, and TMAX for a list of dates.\n",
    "    \n",
    "    Args:\n",
    "        start_date (string): A date string in the format %Y-%m-%d\n",
    "        end_date (string): A date string in the format %Y-%m-%d\n",
    "        \n",
    "    Returns:\n",
    "        TMIN, TAVE, and TMAX\n",
    "    \"\"\"\n",
    "    \n",
    "    return session.query(func.min(Measurement.tobs), func.avg(Measurement.tobs), func.max(Measurement.tobs)).\\\n",
    "        filter(Measurement.date >= start_date).all()\n",
    "\n",
    "# function usage example\n",
    "print(calc_temps_start_only('2012-02-28'))\n"
   ]
  },
  {
   "cell_type": "markdown",
   "metadata": {},
   "source": [
    "## Temp (tmin, tavg, tmax) for a given start date and end date"
   ]
  },
  {
   "cell_type": "code",
   "execution_count": 39,
   "metadata": {},
   "outputs": [
    {
     "name": "stdout",
     "output_type": "stream",
     "text": [
      "[(61.0, 69.75510204081633, 75.0)]\n"
     ]
    }
   ],
   "source": [
    "# This function called `calc_temps` will accept start date and end date in the format '%Y-%m-%d' \n",
    "# and return the minimum, average, and maximum temperatures for that range of dates\n",
    "def calc_temps(start_date, end_date):\n",
    "    \"\"\"TMIN, TAVG, and TMAX for a list of dates.\n",
    "    \n",
    "    Args:\n",
    "        start_date (string): A date string in the format %Y-%m-%d\n",
    "        end_date (string): A date string in the format %Y-%m-%d\n",
    "        \n",
    "    Returns:\n",
    "        TMIN, TAVE, and TMAX\n",
    "    \"\"\"\n",
    "    \n",
    "    return session.query(func.min(Measurement.tobs), func.avg(Measurement.tobs), func.max(Measurement.tobs)).\\\n",
    "        filter(Measurement.date >= start_date).filter(Measurement.date <= end_date).all()\n",
    "\n",
    "# function usage example\n",
    "print(calc_temps('2011-02-28', '2011-03-05'))"
   ]
  },
  {
   "cell_type": "code",
   "execution_count": 40,
   "metadata": {},
   "outputs": [
    {
     "name": "stdout",
     "output_type": "stream",
     "text": [
      "[('USC00511918', 1979), ('USC00513117', 2709), ('USC00514830', 2202), ('USC00516128', 2612), ('USC00517948', 1372), ('USC00518838', 511), ('USC00519281', 2772), ('USC00519397', 2724), ('USC00519523', 2669)]\n"
     ]
    }
   ],
   "source": [
    "# Design a query to show how many stations are available in this dataset?\n",
    "#result is a list of tuples\n",
    "#get first position of list and first position of tuple\n",
    "station_count = session.query(Measurement.station, func.count(Measurement.station)).group_by(Measurement.station).order_by(Measurement.station).all()\n",
    "print(station_count)\n",
    "\n",
    "#station_count = session.query(Measurement.station).distinct()\n",
    "#Session.query(Table.column).distinct():\n",
    "#print(station_count)"
   ]
  },
  {
   "cell_type": "code",
   "execution_count": 41,
   "metadata": {},
   "outputs": [
    {
     "name": "stdout",
     "output_type": "stream",
     "text": [
      "[(61.0, 69.75510204081633, 75.0)]\n",
      "61.0\n",
      "69.75510204081633\n",
      "69.75510204081633\n",
      "75.0\n"
     ]
    },
    {
     "data": {
      "image/png": "[encoded data removed]",
      "text/plain": [
       "<Figure size 432x288 with 1 Axes>"
      ]
     },
     "metadata": {},
     "output_type": "display_data"
    }
   ],
   "source": [
    "\n",
    "#bonus - blotbar with y error bar\n",
    "test = calc_temps('2011-02-28', '2011-03-05')\n",
    "print(test)\n",
    "\n",
    "temp_min = test[0][0]\n",
    "y_axis = temp_avg = test[0][1]\n",
    "temp_max = test[0][2]\n",
    "\n",
    "\n",
    "print(temp_min)\n",
    "print(temp_avg)\n",
    "print(y_axis)\n",
    "print(temp_max)\n",
    "\n",
    "y_axis = temp_avg = test[0][1]\n",
    "x_axis = [1]\n",
    "\n",
    "# We apply align=\"edge\" to ensure our bars line up with our tick marks\n",
    "\n",
    "plt.ylim(0, 100)\n",
    "plt.xlim(0, 1)\n",
    "plt.bar(x_axis, y_axis, color='r', alpha=0.5)\n",
    "#plt.plot(1, y_axis, align = \"center\")\n",
    "plt.tight_layout()\n"
   ]
  },
  {
   "cell_type": "markdown",
   "metadata": {},
   "source": [
    "![precipitation](Images/station-histogram.png)"
   ]
  },
  {
   "cell_type": "code",
   "execution_count": 42,
   "metadata": {},
   "outputs": [
    {
     "name": "stdout",
     "output_type": "stream",
     "text": [
      "[(62.0, 69.57142857142857, 74.0)]\n"
     ]
    }
   ],
   "source": [
    "# This function called `calc_temps` will accept start date and end date in the format '%Y-%m-%d' \n",
    "# and return the minimum, average, and maximum temperatures for that range of dates\n",
    "def calc_temps(start_date, end_date):\n",
    "    \"\"\"TMIN, TAVG, and TMAX for a list of dates.\n",
    "    \n",
    "    Args:\n",
    "        start_date (string): A date string in the format %Y-%m-%d\n",
    "        end_date (string): A date string in the format %Y-%m-%d\n",
    "        \n",
    "    Returns:\n",
    "        TMIN, TAVE, and TMAX\n",
    "    \"\"\"\n",
    "    \n",
    "    return session.query(func.min(Measurement.tobs), func.avg(Measurement.tobs), func.max(Measurement.tobs)).\\\n",
    "        filter(Measurement.date >= start_date).filter(Measurement.date <= end_date).all()\n",
    "\n",
    "# function usage example\n",
    "print(calc_temps('2012-02-28', '2012-03-05'))"
   ]
  },
  {
   "cell_type": "code",
   "execution_count": null,
   "metadata": {},
   "outputs": [],
   "source": []
  },
  {
   "cell_type": "code",
   "execution_count": 45,
   "metadata": {},
   "outputs": [],
   "source": [
    "# Use your previous function `calc_temps` to calculate the tmin, tavg, and tmax \n",
    "# for your trip using the previous year's data for those same dates.\n"
   ]
  },
  {
   "cell_type": "code",
   "execution_count": 46,
   "metadata": {},
   "outputs": [],
   "source": [
    "# Plot the results from your previous query as a bar chart. \n",
    "# Use \"Trip Avg Temp\" as your Title\n",
    "# Use the average temperature for the y value\n",
    "# Use the peak-to-peak (tmax-tmin) value as the y error bar (yerr)\n"
   ]
  },
  {
   "cell_type": "code",
   "execution_count": 47,
   "metadata": {},
   "outputs": [],
   "source": [
    "# Calculate the total amount of rainfall per weather station for your trip dates using the previous year's matching dates.\n",
    "# Sort this in descending order by precipitation amount and list the station, name, latitude, longitude, and elevation\n",
    "\n"
   ]
  },
  {
   "cell_type": "markdown",
   "metadata": {},
   "source": [
    "## Optional Challenge Assignment"
   ]
  },
  {
   "cell_type": "code",
   "execution_count": null,
   "metadata": {},
   "outputs": [],
   "source": [
    "# Create a query that will calculate the daily normals \n",
    "# (i.e. the averages for tmin, tmax, and tavg for all historic data matching a specific month and day)\n",
    "\n",
    "def daily_normals(date):\n",
    "    \"\"\"Daily Normals.\n",
    "    \n",
    "    Args:\n",
    "        date (str): A date string in the format '%m-%d'\n",
    "        \n",
    "    Returns:\n",
    "        A list of tuples containing the daily normals, tmin, tavg, and tmax\n",
    "    \n",
    "    \"\"\"\n",
    "    \n",
    "    sel = [func.min(Measurement.tobs), func.avg(Measurement.tobs), func.max(Measurement.tobs)]\n",
    "    return session.query(*sel).filter(func.strftime(\"%m-%d\", Measurement.date) == date).all()\n",
    "    \n",
    "daily_normals(\"01-01\")"
   ]
  },
  {
   "cell_type": "code",
   "execution_count": null,
   "metadata": {},
   "outputs": [],
   "source": [
    "# calculate the daily normals for your trip\n",
    "# push each tuple of calculations into a list called `normals`\n",
    "\n",
    "# Set the start and end date of the trip\n",
    "\n",
    "# Use the start and end date to create a range of dates\n",
    "\n",
    "# Stip off the year and save a list of %m-%d strings\n",
    "\n",
    "# Loop through the list of %m-%d strings and calculate the normals for each date\n"
   ]
  },
  {
   "cell_type": "code",
   "execution_count": null,
   "metadata": {},
   "outputs": [],
   "source": [
    "# Load the previous query results into a Pandas DataFrame and add the `trip_dates` range as the `date` index\n"
   ]
  },
  {
   "cell_type": "code",
   "execution_count": null,
   "metadata": {},
   "outputs": [],
   "source": [
    "# Plot the daily normals as an area plot with `stacked=False`\n"
   ]
  }
 ],
 "metadata": {
  "kernel_info": {
   "name": "python3"
  },
  "kernelspec": {
   "display_name": "Python 3",
   "language": "python",
   "name": "python3"
  },
  "language_info": {
   "codemirror_mode": {
    "name": "ipython",
    "version": 3
   },
   "file_extension": ".py",
   "mimetype": "text/x-python",
   "name": "python",
   "nbconvert_exporter": "python",
   "pygments_lexer": "ipython3",
   "version": "3.7.4"
  },
  "nteract": {
   "version": "0.12.3"
  },
  "varInspector": {
   "cols": {
    "lenName": 16,
    "lenType": 16,
    "lenVar": 40
   },
   "kernels_config": {
    "python": {
     "delete_cmd_postfix": "",
     "delete_cmd_prefix": "del ",
     "library": "var_list.py",
     "varRefreshCmd": "print(var_dic_list())"
    },
    "r": {
     "delete_cmd_postfix": ") ",
     "delete_cmd_prefix": "rm(",
     "library": "var_list.r",
     "varRefreshCmd": "cat(var_dic_list()) "
    }
   },
   "types_to_exclude": [
    "module",
    "function",
    "builtin_function_or_method",
    "instance",
    "_Feature"
   ],
   "window_display": false
  }
 },
 "nbformat": 4,
 "nbformat_minor": 2
}
